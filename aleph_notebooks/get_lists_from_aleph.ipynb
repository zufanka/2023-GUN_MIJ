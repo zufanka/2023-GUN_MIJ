{
 "cells": [
  {
   "cell_type": "markdown",
   "id": "09ab4128-5590-4f51-aa56-cab378cb3412",
   "metadata": {},
   "source": [
    "## 1. install `alephclient` library"
   ]
  },
  {
   "cell_type": "code",
   "execution_count": null,
   "id": "5f73bc6d-3b86-4388-9343-9bca6771bbc1",
   "metadata": {},
   "outputs": [],
   "source": [
    "pip install alephclient"
   ]
  },
  {
   "cell_type": "markdown",
   "id": "b66f8bdd-c190-4a41-983b-8babd4edff94",
   "metadata": {},
   "source": [
    "## 2. import libraries"
   ]
  },
  {
   "cell_type": "code",
   "execution_count": 26,
   "id": "dae21b7d-4cce-4e78-b08d-ad70ccafc1af",
   "metadata": {},
   "outputs": [],
   "source": [
    "from alephclient.api import AlephAPI\n",
    "import pandas as pd\n",
    "import json"
   ]
  },
  {
   "cell_type": "markdown",
   "id": "d03ad834-803e-4a6b-b865-24e5bf9fcfe1",
   "metadata": {},
   "source": [
    "## 3. put in your API key and the list id\n",
    "- you find your API key in Aleph `Settings > API Secret Access Key`\n",
    "- you find the list id in the URL of the list. [This is the sample list](https://cjc.investigativedata.org/lists/93cfb2fdd8bc4f9fa946f7819d71a1e9), it's id is the last part of the URL"
   ]
  },
  {
   "cell_type": "code",
   "execution_count": 30,
   "id": "1e5138e8-4c21-4bca-bfe5-29047b4bc055",
   "metadata": {},
   "outputs": [],
   "source": [
    "host = \"https://cjc.investigativedata.org\"\n",
    "# put your own API key here\n",
    "api_key = \"\"\n",
    "list_id = \"93cfb2fdd8bc4f9fa946f7819d71a1e9\""
   ]
  },
  {
   "cell_type": "markdown",
   "id": "3db85688-062c-40af-ad60-71310a8235ee",
   "metadata": {},
   "source": [
    "## 4. write code that will read lists from Aleph"
   ]
  },
  {
   "cell_type": "code",
   "execution_count": 64,
   "id": "e8e9160a-1e63-4905-ba6e-a100a99df8dc",
   "metadata": {},
   "outputs": [],
   "source": [
    "def get_list_as_table(api_key, list_id):\n",
    "\n",
    "    # authorize with the API\n",
    "    api = AlephAPI(host, api_key)\n",
    "\n",
    "    # get the list data\n",
    "    res = api.entitysetitems(entityset_id=list_id)\n",
    "\n",
    "    result_list = []\n",
    "\n",
    "    # read from the result and append to a new list\n",
    "    for data in res:\n",
    "        row = data[\"entity\"][\"properties\"]\n",
    "        result_list.append(row)\n",
    "        #print(row)\n",
    "\n",
    "    #print(result_list)\n",
    "\n",
    "    # make it into a dataframe, remove the []\n",
    "    df = pd.DataFrame(result_list).map(lambda x: ';'.join(x))\n",
    "\n",
    "    return df"
   ]
  },
  {
   "cell_type": "code",
   "execution_count": 62,
   "id": "c607bd94-14fd-49bf-a958-d81bc96c97ad",
   "metadata": {},
   "outputs": [
    {
     "data": {
      "text/html": [
       "<div>\n",
       "<style scoped>\n",
       "    .dataframe tbody tr th:only-of-type {\n",
       "        vertical-align: middle;\n",
       "    }\n",
       "\n",
       "    .dataframe tbody tr th {\n",
       "        vertical-align: top;\n",
       "    }\n",
       "\n",
       "    .dataframe thead th {\n",
       "        text-align: right;\n",
       "    }\n",
       "</style>\n",
       "<table border=\"1\" class=\"dataframe\">\n",
       "  <thead>\n",
       "    <tr style=\"text-align: right;\">\n",
       "      <th></th>\n",
       "      <th>name</th>\n",
       "      <th>nationality</th>\n",
       "      <th>country</th>\n",
       "      <th>alephUrl</th>\n",
       "    </tr>\n",
       "  </thead>\n",
       "  <tbody>\n",
       "    <tr>\n",
       "      <th>0</th>\n",
       "      <td>Ada</td>\n",
       "      <td>cz</td>\n",
       "      <td>nl</td>\n",
       "      <td>https://cjc.investigativedata.org/api/2/entiti...</td>\n",
       "    </tr>\n",
       "    <tr>\n",
       "      <th>1</th>\n",
       "      <td>Sarah</td>\n",
       "      <td>de</td>\n",
       "      <td>de</td>\n",
       "      <td>https://cjc.investigativedata.org/api/2/entiti...</td>\n",
       "    </tr>\n",
       "  </tbody>\n",
       "</table>\n",
       "</div>"
      ],
      "text/plain": [
       "    name nationality country  \\\n",
       "0    Ada          cz      nl   \n",
       "1  Sarah          de      de   \n",
       "\n",
       "                                            alephUrl  \n",
       "0  https://cjc.investigativedata.org/api/2/entiti...  \n",
       "1  https://cjc.investigativedata.org/api/2/entiti...  "
      ]
     },
     "execution_count": 62,
     "metadata": {},
     "output_type": "execute_result"
    }
   ],
   "source": [
    "df = get_list_as_table(api_key, list_id)\n",
    "df"
   ]
  },
  {
   "cell_type": "code",
   "execution_count": null,
   "id": "46579143-1588-46be-8eca-8d31e5995559",
   "metadata": {},
   "outputs": [],
   "source": [
    "df.to_csv(\"output.csv\", index=False)"
   ]
  }
 ],
 "metadata": {
  "kernelspec": {
   "display_name": "Python 3 (ipykernel)",
   "language": "python",
   "name": "python3"
  },
  "language_info": {
   "codemirror_mode": {
    "name": "ipython",
    "version": 3
   },
   "file_extension": ".py",
   "mimetype": "text/x-python",
   "name": "python",
   "nbconvert_exporter": "python",
   "pygments_lexer": "ipython3",
   "version": "3.12.0"
  }
 },
 "nbformat": 4,
 "nbformat_minor": 5
}
