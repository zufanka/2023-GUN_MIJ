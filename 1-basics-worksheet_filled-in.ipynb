{
 "cells": [
  {
   "cell_type": "markdown",
   "metadata": {},
   "source": [
    "# Welcome to the Python & Jupyter notebook Basics"
   ]
  },
  {
   "cell_type": "markdown",
   "metadata": {},
   "source": [
    "[presentation](https://docs.google.com/presentation/d/1N50SCfRmh5jftlkIommI1ernCZiQmQSVs0qcNkwjBYM/edit#slide=id.p)"
   ]
  },
  {
   "cell_type": "markdown",
   "metadata": {},
   "source": [
    "In this part, we will make ourselves familiar with the **jupyter notebook** and **Python** programming language"
   ]
  },
  {
   "cell_type": "code",
   "execution_count": 24,
   "metadata": {},
   "outputs": [
    {
     "data": {
      "text/plain": [
       "'Hi! Welcome to the Spectacular Week of Python.'"
      ]
     },
     "execution_count": 24,
     "metadata": {},
     "output_type": "execute_result"
    }
   ],
   "source": [
    "# this is just a piece of text\n",
    "\"Hi! Welcome to the Spectacular Week of Python.\""
   ]
  },
  {
   "cell_type": "markdown",
   "metadata": {},
   "source": [
    "<br>➡  This is a jupyter notebook cell\n",
    "<br>➡  each cell needs to be **run** after you write your code: by clicking the `▶` button above, or with `shift/ctrl+ enter`\n",
    "<br>➡  If you see a number between the brackets next to the cell, eg `[23]`, the cell **has been run**\n",
    "<br>➡  If you see empty brackets `[ ]` the cell has **not been run**\n",
    "<br>➡  If you see this `[*]`, the cell is **running**. You can then not run any other cells while one is running\n",
    "<br>➡  **Important**: if you adjust a cell, you need to **run it again**!"
   ]
  },
  {
   "cell_type": "markdown",
   "metadata": {},
   "source": [
    "#### Add new cels:\n",
    "<br>➡ with the `+` sign in the top menu\n",
    "<br>➡ by pressing ESC and then `a` (above) or `b` (below)\n"
   ]
  },
  {
   "cell_type": "code",
   "execution_count": 23,
   "metadata": {},
   "outputs": [],
   "source": [
    "# this is a comment"
   ]
  },
  {
   "cell_type": "markdown",
   "metadata": {},
   "source": [
    "<br>➡ put a **comment** in your code using the hashtag `#`\n",
    "<br>➡  Everything after the hashtag won't be read by Python: `# This is a comment`"
   ]
  },
  {
   "cell_type": "markdown",
   "metadata": {},
   "source": [
    "# THE BASICS"
   ]
  },
  {
   "cell_type": "markdown",
   "metadata": {},
   "source": [
    "## **Variables**"
   ]
  },
  {
   "cell_type": "markdown",
   "metadata": {},
   "source": [
    "![slicing](img/variables.png)"
   ]
  },
  {
   "cell_type": "markdown",
   "metadata": {},
   "source": [
    "<br>➡  `variables` = kind of box with a label on them in which you can stor  numbers, names, expressions, and even other variables\n",
    "<br>➡  name of a variable is arbitrary, but it is useful if you know what it stands for.\n",
    "<br>➡  create a variable with `variable_name =`\n",
    "<br>➡  a variable name can only contain **lower and uppercase letters, numbers, and underscores. No spaces** or other funky characters!"
   ]
  },
  {
   "cell_type": "markdown",
   "metadata": {},
   "source": [
    "### **Strings**"
   ]
  },
  {
   "cell_type": "markdown",
   "metadata": {},
   "source": [
    "<br>➡ `string` = text\n",
    "<br>➡ put it in between single or double quotes. `\"text\"` or `'text'`"
   ]
  },
  {
   "cell_type": "code",
   "execution_count": 38,
   "metadata": {},
   "outputs": [],
   "source": [
    "national_animal_scotland = \"unicorn\""
   ]
  },
  {
   "cell_type": "markdown",
   "metadata": {},
   "source": [
    "What happens if you don't put the text between quotes?"
   ]
  },
  {
   "cell_type": "markdown",
   "metadata": {},
   "source": [
    "<br>➡  you can use the `print()` method to view the content of a variable: `print(variable_name)`\n",
    "<br>➡  or in jupyter notebook just the variable name"
   ]
  },
  {
   "cell_type": "code",
   "execution_count": 30,
   "metadata": {},
   "outputs": [
    {
     "data": {
      "text/plain": [
       "'unicorn'"
      ]
     },
     "execution_count": 30,
     "metadata": {},
     "output_type": "execute_result"
    }
   ],
   "source": [
    "national_animal_scotland"
   ]
  },
  {
   "cell_type": "markdown",
   "metadata": {},
   "source": [
    "Print your string. Use `print()`"
   ]
  },
  {
   "cell_type": "code",
   "execution_count": 31,
   "metadata": {},
   "outputs": [
    {
     "name": "stdout",
     "output_type": "stream",
     "text": [
      "unicorn\n"
     ]
    }
   ],
   "source": [
    "print(national_animal_scotland)"
   ]
  },
  {
   "cell_type": "markdown",
   "metadata": {},
   "source": [
    "<br>➡ You can also do **addition** and **multiplication** with strings"
   ]
  },
  {
   "cell_type": "code",
   "execution_count": 32,
   "metadata": {},
   "outputs": [
    {
     "data": {
      "text/plain": [
       "'unicorns are cool'"
      ]
     },
     "execution_count": 32,
     "metadata": {},
     "output_type": "execute_result"
    }
   ],
   "source": [
    "national_animal_scotland + \"s are cool\""
   ]
  },
  {
   "cell_type": "code",
   "execution_count": 36,
   "metadata": {},
   "outputs": [
    {
     "data": {
      "text/plain": [
       "'unicornunicornunicornunicornunicorn is a lot of unicorn'"
      ]
     },
     "execution_count": 36,
     "metadata": {},
     "output_type": "execute_result"
    }
   ],
   "source": [
    "national_animal_scotland * 5 + \" is a lot of \" + national_animal_scotland"
   ]
  },
  {
   "cell_type": "markdown",
   "metadata": {},
   "source": [
    "<br>➡ there are obviously also things you can not do"
   ]
  },
  {
   "cell_type": "code",
   "execution_count": 34,
   "metadata": {},
   "outputs": [
    {
     "ename": "TypeError",
     "evalue": "unsupported operand type(s) for -: 'str' and 'str'",
     "output_type": "error",
     "traceback": [
      "\u001b[0;31m---------------------------------------------------------------------------\u001b[0m",
      "\u001b[0;31mTypeError\u001b[0m                                 Traceback (most recent call last)",
      "Cell \u001b[0;32mIn[34], line 1\u001b[0m\n\u001b[0;32m----> 1\u001b[0m \u001b[43mnational_animal_scotland\u001b[49m\u001b[43m \u001b[49m\u001b[38;5;241;43m-\u001b[39;49m\u001b[43m \u001b[49m\u001b[38;5;124;43m\"\u001b[39;49m\u001b[38;5;124;43ms are cool\u001b[39;49m\u001b[38;5;124;43m\"\u001b[39;49m\n",
      "\u001b[0;31mTypeError\u001b[0m: unsupported operand type(s) for -: 'str' and 'str'"
     ]
    }
   ],
   "source": [
    "national_animal_scotland - \"s are cool\""
   ]
  },
  {
   "cell_type": "markdown",
   "metadata": {},
   "source": [
    "### **Numbers**"
   ]
  },
  {
   "cell_type": "markdown",
   "metadata": {},
   "source": [
    "<br>➡ `Integer` : whole number, such as `5`, `6` or `2454`"
   ]
  },
  {
   "cell_type": "code",
   "execution_count": 40,
   "metadata": {},
   "outputs": [
    {
     "data": {
      "text/plain": [
       "36"
      ]
     },
     "execution_count": 40,
     "metadata": {},
     "output_type": "execute_result"
    }
   ],
   "source": [
    "peopleInThisCall = 36\n",
    "peopleInThisCall"
   ]
  },
  {
   "cell_type": "markdown",
   "metadata": {},
   "source": [
    "<br>➡ `Float` : a number that is not whole, such as `5.67` or `823.12`"
   ]
  },
  {
   "cell_type": "code",
   "execution_count": 41,
   "metadata": {},
   "outputs": [],
   "source": [
    "moon_fullness = 0.9"
   ]
  },
  {
   "cell_type": "markdown",
   "metadata": {},
   "source": [
    "<br>➡ You can do `addition`, `substraction`, `multiplication`, `division` (and more) with numbers."
   ]
  },
  {
   "cell_type": "code",
   "execution_count": 42,
   "metadata": {},
   "outputs": [
    {
     "data": {
      "text/plain": [
       "32.4"
      ]
     },
     "execution_count": 42,
     "metadata": {},
     "output_type": "execute_result"
    }
   ],
   "source": [
    "peopleInThisCall * moon_fullness"
   ]
  },
  {
   "cell_type": "markdown",
   "metadata": {},
   "source": [
    "### Collection: **Lists**"
   ]
  },
  {
   "cell_type": "markdown",
   "metadata": {},
   "source": [
    "<br>➡ A `list` is a **collection** of other variables **separated by a comma**\n",
    "<br>➡  Uses **brackets** `[]`\n",
    "<br>➡ `empty_list = []`\n",
    "<br>➡ `fibonacci = [1, 1, 3, 5, 8, 13, 21, 34]`\n",
    "<br>➡ `oxford_word_oftheyear = [\"VAX\", \"CLIMATE EMERGENCY\", \"TOXIC\", \"YOUTHQUAKE\", \"POST-TRUTH\" ,\"😂\", \"vape\", \"selfie\"]`\n",
    "<br><br>Let's make a list!"
   ]
  },
  {
   "cell_type": "code",
   "execution_count": 43,
   "metadata": {},
   "outputs": [],
   "source": [
    "oxford_word_oftheyear = [\"VAX\", \"CLIMATE EMERGENCY\", \"TOXIC\", \"YOUTHQUAKE\", \"POST-TRUTH\" ,\"😂\", \"vape\", \"selfie\"]"
   ]
  },
  {
   "cell_type": "markdown",
   "metadata": {},
   "source": [
    "Let's make a list of numbers"
   ]
  },
  {
   "cell_type": "code",
   "execution_count": 44,
   "metadata": {},
   "outputs": [],
   "source": [
    "fibonacci = [1, 1, 3, 5, 8, 13, 21, 34]"
   ]
  },
  {
   "cell_type": "markdown",
   "metadata": {},
   "source": [
    "### Collection: **Dictionaries**"
   ]
  },
  {
   "cell_type": "markdown",
   "metadata": {},
   "source": [
    "<br>➡ A `dictionary` is a **collection** of **key** and **values**\n",
    "<br>➡ Uses **curly brackets** `{}`\n",
    "<br>➡ `empty_dictionary = {}`\n",
    "<br> Let's make a dictionary for our oxford words of the year and assign the actual year as a value"
   ]
  },
  {
   "cell_type": "code",
   "execution_count": 46,
   "metadata": {},
   "outputs": [
    {
     "data": {
      "text/plain": [
       "{'VAX': 2021,\n",
       " 'CLIMATE EMERGENCY': 2019,\n",
       " 'TOXIC': 2018,\n",
       " 'YOUTHQUAKE': 2017,\n",
       " 'POST-TRUTH': 2016,\n",
       " '😂': 2015,\n",
       " 'vape': 2014,\n",
       " 'selfie': 2013}"
      ]
     },
     "execution_count": 46,
     "metadata": {},
     "output_type": "execute_result"
    }
   ],
   "source": [
    "oxford_word_oftheyear_dict = {\"VAX\" : 2021, \"CLIMATE EMERGENCY\" : 2019, \"TOXIC\" : 2018, \"YOUTHQUAKE\": 2017, \"POST-TRUTH\" :2016,\"😂\" : 2015, \"vape\" : 2014, \"selfie\": 2013}\n",
    "oxford_word_oftheyear_dict"
   ]
  },
  {
   "cell_type": "markdown",
   "metadata": {},
   "source": [
    "<br> You can also create a new key / value pair like this:\n",
    "<br>➡ `dictionary[key] = value`"
   ]
  },
  {
   "cell_type": "code",
   "execution_count": null,
   "metadata": {},
   "outputs": [],
   "source": [
    "# what happens if you assign for example the \"VAX\" key with something else?\n"
   ]
  },
  {
   "cell_type": "code",
   "execution_count": 3,
   "metadata": {},
   "outputs": [],
   "source": [
    "# make a new dictionary for yourself\n"
   ]
  },
  {
   "cell_type": "markdown",
   "metadata": {},
   "source": [
    "## **Debugging**"
   ]
  },
  {
   "cell_type": "markdown",
   "metadata": {},
   "source": [
    "By now you are probably getting some errors. Let's see how to tackle them"
   ]
  },
  {
   "cell_type": "markdown",
   "metadata": {},
   "source": [
    "![slicing](img/bugs.png)"
   ]
  },
  {
   "cell_type": "markdown",
   "metadata": {},
   "source": [
    "Most common errors:\n",
    "<br>➡ `NameError` : the variable name is not right. Check for **typos**\n",
    "<br>➡ `SyntaxError` : the syntax is not right, you can be **missing** brackets, quotes, or using the wrong ones\n",
    "<br>➡ `AttributeError` : the method you are using is not correct\n",
    "<br>..."
   ]
  },
  {
   "cell_type": "markdown",
   "metadata": {},
   "source": [
    "![slicing](img/debug.png)"
   ]
  },
  {
   "cell_type": "markdown",
   "metadata": {},
   "source": [
    "## **Methods**"
   ]
  },
  {
   "cell_type": "markdown",
   "metadata": {},
   "source": [
    "![methods](img/methods.png)"
   ]
  },
  {
   "cell_type": "markdown",
   "metadata": {},
   "source": [
    "**NOTE**\n",
    "<br>➡ if a method **has a** `.` at the beginning, you put it **after** the variable, eg `variable.strip()`\n",
    "<br>➡ if a method **has no** `.` at the beginning, you put the variable **in between** the brackets, eg `len(variable)`"
   ]
  },
  {
   "cell_type": "markdown",
   "metadata": {},
   "source": [
    "### **String methods**"
   ]
  },
  {
   "cell_type": "markdown",
   "metadata": {},
   "source": [
    "<br>➡`len()` will count the characters in a string: `len(string)`"
   ]
  },
  {
   "cell_type": "code",
   "execution_count": 48,
   "metadata": {},
   "outputs": [
    {
     "data": {
      "text/plain": [
       "7"
      ]
     },
     "execution_count": 48,
     "metadata": {},
     "output_type": "execute_result"
    }
   ],
   "source": [
    "len(national_animal_scotland)"
   ]
  },
  {
   "cell_type": "markdown",
   "metadata": {},
   "source": [
    "<br>➡ `.strip()` : remove whitespaces before or after a string "
   ]
  },
  {
   "cell_type": "code",
   "execution_count": 54,
   "metadata": {},
   "outputs": [],
   "source": [
    "dirty_unicorn = \"     \" + national_animal_scotland + \"    \""
   ]
  },
  {
   "cell_type": "code",
   "execution_count": 55,
   "metadata": {},
   "outputs": [
    {
     "data": {
      "text/plain": [
       "'unicorn'"
      ]
     },
     "execution_count": 55,
     "metadata": {},
     "output_type": "execute_result"
    }
   ],
   "source": [
    "dirty_unicorn.strip()"
   ]
  },
  {
   "cell_type": "code",
   "execution_count": null,
   "metadata": {},
   "outputs": [],
   "source": []
  },
  {
   "cell_type": "markdown",
   "metadata": {},
   "source": [
    "<br>➡ `.replace()` : replace something with something else "
   ]
  },
  {
   "cell_type": "code",
   "execution_count": 56,
   "metadata": {},
   "outputs": [
    {
     "data": {
      "text/plain": [
       "'❤️❤️❤️❤️❤️unicorn❤️❤️❤️❤️'"
      ]
     },
     "execution_count": 56,
     "metadata": {},
     "output_type": "execute_result"
    }
   ],
   "source": [
    "dirty_unicorn.replace(\" \",\"❤️\")"
   ]
  },
  {
   "cell_type": "markdown",
   "metadata": {},
   "source": [
    "<br>➡ `.lower()` : makes the whole string lowercase "
   ]
  },
  {
   "cell_type": "code",
   "execution_count": 60,
   "metadata": {},
   "outputs": [
    {
     "data": {
      "text/plain": [
       "'unicorn'"
      ]
     },
     "execution_count": 60,
     "metadata": {},
     "output_type": "execute_result"
    }
   ],
   "source": [
    "national_animal_scotland.upper().lower()"
   ]
  },
  {
   "cell_type": "markdown",
   "metadata": {},
   "source": [
    "<br>➡ `.upper()` : makes the whole string uppercase"
   ]
  },
  {
   "cell_type": "code",
   "execution_count": 61,
   "metadata": {},
   "outputs": [
    {
     "data": {
      "text/plain": [
       "'UNICORN'"
      ]
     },
     "execution_count": 61,
     "metadata": {},
     "output_type": "execute_result"
    }
   ],
   "source": [
    "national_animal_scotland.upper()"
   ]
  },
  {
   "cell_type": "markdown",
   "metadata": {},
   "source": [
    "### **Number methods**"
   ]
  },
  {
   "cell_type": "markdown",
   "metadata": {},
   "source": [
    "<br>➡ `str()` : makes a string out of a number"
   ]
  },
  {
   "cell_type": "code",
   "execution_count": 62,
   "metadata": {},
   "outputs": [
    {
     "data": {
      "text/plain": [
       "36"
      ]
     },
     "execution_count": 62,
     "metadata": {},
     "output_type": "execute_result"
    }
   ],
   "source": [
    "peopleInThisCall"
   ]
  },
  {
   "cell_type": "code",
   "execution_count": 63,
   "metadata": {},
   "outputs": [
    {
     "data": {
      "text/plain": [
       "'36'"
      ]
     },
     "execution_count": 63,
     "metadata": {},
     "output_type": "execute_result"
    }
   ],
   "source": [
    "str(peopleInThisCall)"
   ]
  },
  {
   "cell_type": "markdown",
   "metadata": {},
   "source": [
    "Useful while scraping"
   ]
  },
  {
   "cell_type": "code",
   "execution_count": 68,
   "metadata": {},
   "outputs": [
    {
     "data": {
      "text/plain": [
       "'www.website.org/something?page=10'"
      ]
     },
     "execution_count": 68,
     "metadata": {},
     "output_type": "execute_result"
    }
   ],
   "source": [
    "\"www.website.org/something?page=\" + str(10)"
   ]
  },
  {
   "cell_type": "markdown",
   "metadata": {},
   "source": [
    "### **List methods**"
   ]
  },
  {
   "cell_type": "markdown",
   "metadata": {},
   "source": [
    "<br>➡ Lists also have a lenght"
   ]
  },
  {
   "cell_type": "code",
   "execution_count": 69,
   "metadata": {},
   "outputs": [
    {
     "data": {
      "text/plain": [
       "8"
      ]
     },
     "execution_count": 69,
     "metadata": {},
     "output_type": "execute_result"
    }
   ],
   "source": [
    "len(oxford_word_oftheyear)"
   ]
  },
  {
   "cell_type": "code",
   "execution_count": 70,
   "metadata": {},
   "outputs": [
    {
     "data": {
      "text/plain": [
       "['VAX',\n",
       " 'CLIMATE EMERGENCY',\n",
       " 'TOXIC',\n",
       " 'YOUTHQUAKE',\n",
       " 'POST-TRUTH',\n",
       " '😂',\n",
       " 'vape',\n",
       " 'selfie']"
      ]
     },
     "execution_count": 70,
     "metadata": {},
     "output_type": "execute_result"
    }
   ],
   "source": [
    "oxford_word_oftheyear"
   ]
  },
  {
   "cell_type": "markdown",
   "metadata": {},
   "source": [
    "<br>➡ `.append()` : add new elements to the list. Often used in `for` loops"
   ]
  },
  {
   "cell_type": "code",
   "execution_count": 72,
   "metadata": {},
   "outputs": [
    {
     "data": {
      "text/plain": [
       "[1, 1, 3, 5, 8, 13, 21, 34]"
      ]
     },
     "execution_count": 72,
     "metadata": {},
     "output_type": "execute_result"
    }
   ],
   "source": [
    "fibonacci"
   ]
  },
  {
   "cell_type": "code",
   "execution_count": 73,
   "metadata": {},
   "outputs": [],
   "source": [
    "fibonacci.append(55)"
   ]
  },
  {
   "cell_type": "code",
   "execution_count": 74,
   "metadata": {},
   "outputs": [
    {
     "data": {
      "text/plain": [
       "[1, 1, 3, 5, 8, 13, 21, 34, 55]"
      ]
     },
     "execution_count": 74,
     "metadata": {},
     "output_type": "execute_result"
    }
   ],
   "source": [
    "fibonacci"
   ]
  },
  {
   "cell_type": "markdown",
   "metadata": {},
   "source": [
    "<br>➡ `.join()` : joins a list to create a `string`"
   ]
  },
  {
   "cell_type": "code",
   "execution_count": 78,
   "metadata": {},
   "outputs": [
    {
     "data": {
      "text/plain": [
       "['VAX',\n",
       " 'CLIMATE EMERGENCY',\n",
       " 'TOXIC',\n",
       " 'YOUTHQUAKE',\n",
       " 'POST-TRUTH',\n",
       " '😂',\n",
       " 'vape',\n",
       " 'selfie']"
      ]
     },
     "execution_count": 78,
     "metadata": {},
     "output_type": "execute_result"
    }
   ],
   "source": [
    "oxford_word_oftheyear"
   ]
  },
  {
   "cell_type": "code",
   "execution_count": 80,
   "metadata": {},
   "outputs": [],
   "source": [
    "joined_list = \" and \".join(oxford_word_oftheyear)"
   ]
  },
  {
   "cell_type": "code",
   "execution_count": 81,
   "metadata": {},
   "outputs": [
    {
     "data": {
      "text/plain": [
       "list"
      ]
     },
     "execution_count": 81,
     "metadata": {},
     "output_type": "execute_result"
    }
   ],
   "source": [
    "type(oxford_word_oftheyear)"
   ]
  },
  {
   "cell_type": "code",
   "execution_count": 82,
   "metadata": {},
   "outputs": [
    {
     "data": {
      "text/plain": [
       "str"
      ]
     },
     "execution_count": 82,
     "metadata": {},
     "output_type": "execute_result"
    }
   ],
   "source": [
    "type(joined_list)"
   ]
  },
  {
   "cell_type": "markdown",
   "metadata": {},
   "source": [
    "<br>➡ `.split()` : splits a string to creates a `list`"
   ]
  },
  {
   "cell_type": "code",
   "execution_count": 85,
   "metadata": {},
   "outputs": [
    {
     "data": {
      "text/plain": [
       "'Ada'"
      ]
     },
     "execution_count": 85,
     "metadata": {},
     "output_type": "execute_result"
    }
   ],
   "source": [
    "\"Ada Homolova\".split(\" \")[0]"
   ]
  },
  {
   "cell_type": "code",
   "execution_count": 86,
   "metadata": {},
   "outputs": [
    {
     "data": {
      "text/plain": [
       "'Homolova'"
      ]
     },
     "execution_count": 86,
     "metadata": {},
     "output_type": "execute_result"
    }
   ],
   "source": [
    "\"Ada Homolova\".split(\" \")[1]"
   ]
  },
  {
   "cell_type": "markdown",
   "metadata": {},
   "source": [
    "# **Slicing**"
   ]
  },
  {
   "cell_type": "markdown",
   "metadata": {},
   "source": [
    "![slicing](img/bread.png)"
   ]
  },
  {
   "cell_type": "markdown",
   "metadata": {},
   "source": [
    "<br>➡ use a `[]` with a number after a list or string, e.g. `list[4]`\n",
    "<br>➡ *Important* : in Python, we **start counting at 0**"
   ]
  },
  {
   "cell_type": "markdown",
   "metadata": {},
   "source": [
    "![hello](img/hello.png)"
   ]
  },
  {
   "cell_type": "markdown",
   "metadata": {},
   "source": [
    "![hello-string](img/slice.png)"
   ]
  },
  {
   "cell_type": "markdown",
   "metadata": {},
   "source": [
    "What is happening here?"
   ]
  },
  {
   "cell_type": "code",
   "execution_count": 91,
   "metadata": {},
   "outputs": [
    {
     "name": "stdout",
     "output_type": "stream",
     "text": [
      "['VAX', 'CLIMATE EMERGENCY', 'TOXIC', 'YOUTHQUAKE', 'POST-TRUTH', '😂', 'vape', 'selfie']\n"
     ]
    }
   ],
   "source": [
    "print(oxford_word_oftheyear)"
   ]
  },
  {
   "cell_type": "code",
   "execution_count": 89,
   "metadata": {},
   "outputs": [
    {
     "data": {
      "text/plain": [
       "'TOXIC'"
      ]
     },
     "execution_count": 89,
     "metadata": {},
     "output_type": "execute_result"
    }
   ],
   "source": [
    "#print(oxford_word_oftheyear)\n",
    "oxford_word_oftheyear[2]"
   ]
  },
  {
   "cell_type": "code",
   "execution_count": 90,
   "metadata": {},
   "outputs": [
    {
     "data": {
      "text/plain": [
       "['YOUTHQUAKE', 'POST-TRUTH']"
      ]
     },
     "execution_count": 90,
     "metadata": {},
     "output_type": "execute_result"
    }
   ],
   "source": [
    "#print(oxford_word_oftheyear)\n",
    "oxford_word_oftheyear[3:5]"
   ]
  },
  {
   "cell_type": "code",
   "execution_count": null,
   "metadata": {},
   "outputs": [],
   "source": []
  },
  {
   "cell_type": "code",
   "execution_count": null,
   "metadata": {},
   "outputs": [],
   "source": []
  },
  {
   "cell_type": "markdown",
   "metadata": {},
   "source": [
    "# **Loops**"
   ]
  },
  {
   "cell_type": "markdown",
   "metadata": {},
   "source": [
    "![slicing](img/loops.png)"
   ]
  },
  {
   "cell_type": "markdown",
   "metadata": {},
   "source": [
    "<br>➡  a set of instructions that are **continually repeated**\n",
    "\n",
    "```python\n",
    "for item in [something, something_else]:\n",
    "    print(item)\n",
    "```\n",
    "\n",
    "<br>➡ `item` is a placeholder name for the 'something' in between the brackets\n",
    "<br>➡ `print()` is a method that just displays the value \n",
    "<br>➡ in scraping used to for example open multiple URLs and extract data from them\n"
   ]
  },
  {
   "cell_type": "code",
   "execution_count": 99,
   "metadata": {},
   "outputs": [
    {
     "name": "stdout",
     "output_type": "stream",
     "text": [
      "VAX is a word of the year!\n",
      "CLIMATE EMERGENCY is a word of the year!\n",
      "TOXIC is a word of the year!\n",
      "YOUTHQUAKE is a word of the year!\n",
      "POST-TRUTH is a word of the year!\n",
      "😂 is a word of the year!\n",
      "vape is a word of the year!\n",
      "selfie is a word of the year!\n"
     ]
    }
   ],
   "source": [
    "for word in oxford_word_oftheyear:\n",
    "    print(word + \" is a word of the year!\")"
   ]
  },
  {
   "cell_type": "code",
   "execution_count": 97,
   "metadata": {},
   "outputs": [
    {
     "data": {
      "text/plain": [
       "'VAX'"
      ]
     },
     "execution_count": 97,
     "metadata": {},
     "output_type": "execute_result"
    }
   ],
   "source": [
    "word"
   ]
  },
  {
   "cell_type": "code",
   "execution_count": 103,
   "metadata": {},
   "outputs": [
    {
     "name": "stdout",
     "output_type": "stream",
     "text": [
      "Cohesio is an EU database\n",
      "Cordis is an EU database\n",
      "Financial Transparency System is an EU database\n",
      "TED is an EU database\n"
     ]
    }
   ],
   "source": [
    "# 1. Let's make a list of some EU databases: Cohesio, Cordis, Financial Transparency System, TED\n",
    "# 2. For each of these print \"[database name] is an EU database\"\n",
    "eu_databases = [\"Cohesio\", \"Cordis\", \"Financial Transparency System\", \"TED\"]\n",
    "\n",
    "for database in eu_databases:\n",
    "    print(database + \" is an EU database\")\n"
   ]
  },
  {
   "cell_type": "code",
   "execution_count": 104,
   "metadata": {},
   "outputs": [
    {
     "data": {
      "text/plain": [
       "'TED'"
      ]
     },
     "execution_count": 104,
     "metadata": {},
     "output_type": "execute_result"
    }
   ],
   "source": [
    "database"
   ]
  },
  {
   "cell_type": "markdown",
   "metadata": {},
   "source": [
    "We can use `range(start, end)` to create a range of numbers\n",
    "\n",
    "```python\n",
    "for n in range(0,3):\n",
    "    print(n)\n",
    "```"
   ]
  },
  {
   "cell_type": "code",
   "execution_count": 107,
   "metadata": {},
   "outputs": [
    {
     "name": "stdout",
     "output_type": "stream",
     "text": [
      "0\n",
      "1\n",
      "2\n",
      "3\n",
      "4\n",
      "5\n",
      "6\n",
      "7\n",
      "8\n",
      "9\n"
     ]
    }
   ],
   "source": [
    "# paste the code here and see what it does\n",
    "for n in range(0,10):\n",
    "    print(n)"
   ]
  },
  {
   "cell_type": "markdown",
   "metadata": {},
   "source": [
    "Instead of printing, you can create `lists` using `for` loops. For example:\n",
    "```python\n",
    "empty_list = []\n",
    "\n",
    "for n in range(0,20):\n",
    "    empty_list.append(n)\n",
    "```"
   ]
  },
  {
   "cell_type": "code",
   "execution_count": 110,
   "metadata": {},
   "outputs": [],
   "source": [
    "# paste the code here and see what it does\n",
    "empty_list = []\n",
    "\n",
    "for n in range(0,20):\n",
    "    empty_list.append(n)"
   ]
  },
  {
   "cell_type": "code",
   "execution_count": 111,
   "metadata": {},
   "outputs": [
    {
     "data": {
      "text/plain": [
       "[0, 1, 2, 3, 4, 5, 6, 7, 8, 9, 10, 11, 12, 13, 14, 15, 16, 17, 18, 19]"
      ]
     },
     "execution_count": 111,
     "metadata": {},
     "output_type": "execute_result"
    }
   ],
   "source": [
    "empty_list"
   ]
  },
  {
   "cell_type": "markdown",
   "metadata": {},
   "source": [
    "Let's go deeper - nested loops\n",
    "\n"
   ]
  },
  {
   "cell_type": "markdown",
   "metadata": {},
   "source": [
    "```python\n",
    "list1 = [5,10,15,20]\n",
    "list2 = [2,3,4,5]\n",
    "\n",
    "for x in list1:\n",
    "    for y in list2:\n",
    "        print(x+y)\n",
    "        \n",
    "```"
   ]
  },
  {
   "cell_type": "code",
   "execution_count": 114,
   "metadata": {},
   "outputs": [
    {
     "name": "stdout",
     "output_type": "stream",
     "text": [
      "the first number is 5\n",
      "7\n",
      "8\n",
      "9\n",
      "10\n",
      "the first number is 10\n",
      "12\n",
      "13\n",
      "14\n",
      "15\n",
      "the first number is 15\n",
      "17\n",
      "18\n",
      "19\n",
      "20\n",
      "the first number is 20\n",
      "22\n",
      "23\n",
      "24\n",
      "25\n"
     ]
    }
   ],
   "source": [
    "# paste the code here and see what it does\n",
    "list1 = [5,10,15,20]\n",
    "list2 = [2,3,4,5]\n",
    "\n",
    "for x in list1:\n",
    "    print(\"the first number is \"+str(x))\n",
    "    for y in list2:\n",
    "        print(x+y)\n",
    "        "
   ]
  },
  {
   "cell_type": "markdown",
   "metadata": {},
   "source": [
    "# **Conditions**"
   ]
  },
  {
   "cell_type": "markdown",
   "metadata": {},
   "source": [
    "Sometimes you want to skip something, or only do things if a certain condition is met. In Python, you can do comparisons as you would in math. The syntax can be a bit different though, because `=` is already used to assign variables for example. Use `<` , `>` , `==` , `!=` to compare numbers or text and see what happens."
   ]
  },
  {
   "cell_type": "code",
   "execution_count": null,
   "metadata": {},
   "outputs": [],
   "source": []
  },
  {
   "cell_type": "code",
   "execution_count": null,
   "metadata": {},
   "outputs": [],
   "source": []
  },
  {
   "cell_type": "markdown",
   "metadata": {},
   "source": [
    "### Question:\n",
    "* Create two variables, assign one as a number and one as a string and compare them. What can you do and what can't you do?"
   ]
  },
  {
   "cell_type": "code",
   "execution_count": null,
   "metadata": {},
   "outputs": [],
   "source": []
  },
  {
   "cell_type": "markdown",
   "metadata": {},
   "source": [
    "## IF / ELIF / ELSE"
   ]
  },
  {
   "cell_type": "markdown",
   "metadata": {},
   "source": [
    "Based on comparisons, we can make `if elif else` statements. This is also called `flow control`"
   ]
  },
  {
   "cell_type": "markdown",
   "metadata": {},
   "source": [
    "```python\n",
    "from random import randint\n",
    "\n",
    "variable = randint(-10,10)\n",
    "\n",
    "if variable == 0:\n",
    "    print(f\"{variable} is zero\")\n",
    "elif variable < 0:\n",
    "    print(f\"{variable} is lower than zero\")\n",
    "else:\n",
    "    print(f\"{variable} is larger than zero\")\n",
    "```"
   ]
  },
  {
   "cell_type": "code",
   "execution_count": 141,
   "metadata": {},
   "outputs": [
    {
     "name": "stdout",
     "output_type": "stream",
     "text": [
      "9 is larger than zero\n"
     ]
    }
   ],
   "source": [
    "# paste the code here and see what it does\n",
    "from random import randint\n",
    "\n",
    "variable = randint(-10,10)\n",
    "\n",
    "if variable == 0:\n",
    "    print(variable + \" is zero\")\n",
    "elif variable < 0:\n",
    "    print(f\"{variable} is lower than zero\")\n",
    "else:\n",
    "    print(f\"{variable} is larger than zero\")"
   ]
  },
  {
   "cell_type": "markdown",
   "metadata": {},
   "source": [
    "Pay attention on how do we make the print statement here, we are using the so-called `f-string`\n",
    "\n",
    "```python\n",
    "f\"{variable name} ... \"\n",
    "```"
   ]
  },
  {
   "cell_type": "code",
   "execution_count": null,
   "metadata": {},
   "outputs": [],
   "source": []
  },
  {
   "cell_type": "markdown",
   "metadata": {},
   "source": [
    "Most often you would use conditional statements in loops."
   ]
  },
  {
   "cell_type": "markdown",
   "metadata": {},
   "source": [
    "```python\n",
    "numbers = [12, 75, 150, 180, 145, 525, 50]\n",
    "# iterate each item of a list\n",
    "for item in numbers:\n",
    "    if item > 500:\n",
    "        # stop the loop completely\n",
    "        break\n",
    "    elif item > 150:\n",
    "        # skip and to the next number\n",
    "        continue\n",
    "    # check if number is divisible by 5\n",
    "    elif item % 5 == 0:\n",
    "        print(item)\n",
    "        \n",
    "```        "
   ]
  },
  {
   "cell_type": "code",
   "execution_count": 45,
   "metadata": {},
   "outputs": [],
   "source": [
    "# paste the code here and run it. Let's dissect what it does.\n"
   ]
  }
 ],
 "metadata": {
  "kernelspec": {
   "display_name": "Python 3 (ipykernel)",
   "language": "python",
   "name": "python3"
  },
  "language_info": {
   "codemirror_mode": {
    "name": "ipython",
    "version": 3
   },
   "file_extension": ".py",
   "mimetype": "text/x-python",
   "name": "python",
   "nbconvert_exporter": "python",
   "pygments_lexer": "ipython3",
   "version": "3.11.6"
  }
 },
 "nbformat": 4,
 "nbformat_minor": 4
}
