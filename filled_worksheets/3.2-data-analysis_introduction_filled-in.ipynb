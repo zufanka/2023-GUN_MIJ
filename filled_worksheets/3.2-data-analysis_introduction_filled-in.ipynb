{
 "cells": [
  {
   "cell_type": "markdown",
   "id": "21132c05-fc98-489f-a9e1-58d678e956a2",
   "metadata": {},
   "source": [
    "# Data analysis"
   ]
  },
  {
   "cell_type": "markdown",
   "id": "4c5ff1da-de16-4f60-9729-303c8837af95",
   "metadata": {},
   "source": [
    "**Goal**: Analyse the differences in hotel costs and per diems of employees of the commission\n",
    "\n",
    "1. Import and explore the data we have scraped in the previous excercise.\n",
    "2. Clean this data\n",
    "3. Combine them with the [inflation index from Eurostat](https://ec.europa.eu/eurostat/databrowser/bookmark/f6a583fa-f744-4590-aa95-173aaa6ea3f1?lang=en) (grab the [direct link to the csv](https://ec.europa.eu/eurostat/api/dissemination/sdmx/3.0/data/dataflow/ESTAT/prc_hicp_midx/1.0/M.I05.CP11.*?c[geo]=BE,BG,CZ,DK,DE,EE,IE,EL,ES,FR,HR,IT,CY,LV,LT,LU,HU,MT,NL,AT,PL,PT,RO,SI,SK,FI,SE,IS,NO,CH,UK,ME,MK&compress=false&format=csvdata&formatVersion=2.0&c[TIME_PERIOD]=ge:2004-01+le:2023-10&lang=en&labels=name))\n",
    "4. Analyse the data"
   ]
  },
  {
   "cell_type": "markdown",
   "id": "5ca8cb82-1a13-44ae-981e-513a1560d700",
   "metadata": {},
   "source": [
    "##  1. Import and explore the scraped data"
   ]
  },
  {
   "cell_type": "markdown",
   "id": "d8ff2561-af84-4c10-b46e-afc797acb10f",
   "metadata": {},
   "source": [
    "The first step for a data analysis is to have a close look at the data:\n",
    "- What columns are there?\n",
    "- How many rows?\n",
    "- What is in the columns?\n",
    "\n",
    "Pandas has helpful methods to do this.\n",
    "\n",
    "```python\n",
    "df.info() # information on the column names and non-zero values\n",
    "df.sample(3) # returns 3 sample rows from the data\n",
    "df.head(3) # returns the first 3 rows of the data\n",
    "len(df) # returns the number of rows\n",
    "df.columns # all the column names as a list\n",
    "```"
   ]
  },
  {
   "cell_type": "code",
   "execution_count": 69,
   "id": "4a74b3c3-1248-427b-a3b2-dfc672585e0d",
   "metadata": {},
   "outputs": [],
   "source": [
    "import pandas as pd"
   ]
  },
  {
   "cell_type": "code",
   "execution_count": 70,
   "id": "6560cbe8-f71c-467f-91a2-9fc9418d0663",
   "metadata": {},
   "outputs": [
    {
     "data": {
      "text/html": [
       "<div>\n",
       "<style scoped>\n",
       "    .dataframe tbody tr th:only-of-type {\n",
       "        vertical-align: middle;\n",
       "    }\n",
       "\n",
       "    .dataframe tbody tr th {\n",
       "        vertical-align: top;\n",
       "    }\n",
       "\n",
       "    .dataframe thead th {\n",
       "        text-align: right;\n",
       "    }\n",
       "</style>\n",
       "<table border=\"1\" class=\"dataframe\">\n",
       "  <thead>\n",
       "    <tr style=\"text-align: right;\">\n",
       "      <th></th>\n",
       "      <th>Destination</th>\n",
       "      <th>Hotel ceiling</th>\n",
       "      <th>Daily allowance</th>\n",
       "      <th>Date</th>\n",
       "    </tr>\n",
       "  </thead>\n",
       "  <tbody>\n",
       "    <tr>\n",
       "      <th>63</th>\n",
       "      <td>Greece</td>\n",
       "      <td>112</td>\n",
       "      <td>82</td>\n",
       "      <td>20220101</td>\n",
       "    </tr>\n",
       "    <tr>\n",
       "      <th>407</th>\n",
       "      <td>Luxembourg</td>\n",
       "      <td>145</td>\n",
       "      <td>92</td>\n",
       "      <td>20100101</td>\n",
       "    </tr>\n",
       "    <tr>\n",
       "      <th>578</th>\n",
       "      <td>Portugal</td>\n",
       "      <td>68,91</td>\n",
       "      <td>124,89</td>\n",
       "      <td>20060101</td>\n",
       "    </tr>\n",
       "  </tbody>\n",
       "</table>\n",
       "</div>"
      ],
      "text/plain": [
       "    Destination Hotel ceiling Daily allowance      Date\n",
       "63       Greece           112              82  20220101\n",
       "407  Luxembourg           145              92  20100101\n",
       "578    Portugal         68,91          124,89  20060101"
      ]
     },
     "execution_count": 70,
     "metadata": {},
     "output_type": "execute_result"
    }
   ],
   "source": [
    "df = pd.read_csv(\"regulation_data.csv\")\n",
    "df.sample(3)"
   ]
  },
  {
   "cell_type": "code",
   "execution_count": 71,
   "id": "d95bfb57-44a3-429b-ba44-47ea93c0624c",
   "metadata": {},
   "outputs": [
    {
     "name": "stdout",
     "output_type": "stream",
     "text": [
      "<class 'pandas.core.frame.DataFrame'>\n",
      "RangeIndex: 636 entries, 0 to 635\n",
      "Data columns (total 4 columns):\n",
      " #   Column           Non-Null Count  Dtype \n",
      "---  ------           --------------  ----- \n",
      " 0   Destination      636 non-null    object\n",
      " 1   Hotel ceiling    636 non-null    object\n",
      " 2   Daily allowance  636 non-null    object\n",
      " 3   Date             636 non-null    int64 \n",
      "dtypes: int64(1), object(3)\n",
      "memory usage: 20.0+ KB\n"
     ]
    }
   ],
   "source": [
    "df.info()"
   ]
  },
  {
   "cell_type": "markdown",
   "id": "b8ec2415-8df4-496d-b83a-ed43969d02d6",
   "metadata": {},
   "source": [
    "### `df.info()` explained"
   ]
  },
  {
   "cell_type": "markdown",
   "id": "59c52a57-18b1-416c-a5f5-a7c26edae566",
   "metadata": {},
   "source": [
    "![](img/info.png)"
   ]
  },
  {
   "cell_type": "markdown",
   "id": "fa6a97fa-e8a4-448d-b1be-a9c3f3196445",
   "metadata": {},
   "source": [
    "### Looking closely at the columns"
   ]
  },
  {
   "cell_type": "markdown",
   "id": "54482ddb-4d10-46c8-802e-c508fe2c6e79",
   "metadata": {},
   "source": [
    "To isolate columns using this syntax and look more closely at those we use the following syntax:\n",
    "\n",
    "```python\n",
    "df[\"column\"]\n",
    "```\n",
    "\n",
    "This will return a `Series` from a `DataFrame`. It's important to know what data type you are working with, as all of them have their own methods.\n",
    "\n",
    "\n",
    "```python\n",
    "# for categorical variables\n",
    "df[\"column\"].unique() # all the unique values of the column\n",
    "df[\"column\"].value_counts() # how often does a value occur\n",
    "\n",
    "# for numeric variables\n",
    "df.hist(column='column') # makes a histogram\n",
    "df.describe() # descriptive statistics for all numeric variables\n",
    "df[\"column\"].describe() # descriptive statistics for a single column\n",
    "```"
   ]
  },
  {
   "cell_type": "code",
   "execution_count": 72,
   "id": "488d63b2-153d-4b95-ac65-9ae4840673f7",
   "metadata": {},
   "outputs": [
    {
     "data": {
      "text/plain": [
       "Destination\n",
       "Belgium            23\n",
       "Latvia             23\n",
       "United Kingdom     23\n",
       "Sweden             23\n",
       "Finland            23\n",
       "Slovenia           23\n",
       "Portugal           23\n",
       "Poland             23\n",
       "Austria            23\n",
       "Netherlands        23\n",
       "Malta              23\n",
       "Hungary            23\n",
       "Lithuania          23\n",
       "Luxembourg         23\n",
       "Cyprus             23\n",
       "Germany            23\n",
       "Italy              23\n",
       "Czech Republic     23\n",
       "France             23\n",
       "Spain              23\n",
       "Greece             23\n",
       "Ireland            23\n",
       "Denmark            23\n",
       "Estonia            23\n",
       "Romania            19\n",
       "Bulgaria           19\n",
       "Slovakia           14\n",
       "Destination        11\n",
       "Slovak Republic     9\n",
       "Croatia             9\n",
       "Destinations        3\n",
       "Name: count, dtype: int64"
      ]
     },
     "execution_count": 72,
     "metadata": {},
     "output_type": "execute_result"
    }
   ],
   "source": [
    "df[\"Destination\"].value_counts()"
   ]
  },
  {
   "cell_type": "markdown",
   "id": "1d2b30d3-b27c-4c0c-b6f4-c881546675a2",
   "metadata": {},
   "source": [
    "This counts the values in the column. Note that we have the words *Destination* and *Destinations* in there. These are remnants of the headers, we don't want them. We also have *Slovakia* and *Slovak Republic* as a value. We need to make them one."
   ]
  },
  {
   "cell_type": "markdown",
   "id": "33cf68f6-3a03-48da-b3e5-1d0c2a85f03d",
   "metadata": {},
   "source": [
    "### Filtering the DataFrame\n",
    "\n",
    "```python\n",
    "df.query() # filters the DataFrame\n",
    "```\n",
    "\n",
    "Please see the documentation "
   ]
  },
  {
   "cell_type": "markdown",
   "id": "fedfaf8d-a0fb-41ea-a865-5e59ee0ca714",
   "metadata": {},
   "source": [
    "`.query()`"
   ]
  },
  {
   "cell_type": "code",
   "execution_count": 73,
   "id": "657b6a8f-5853-4344-98df-1fdddbe9905a",
   "metadata": {},
   "outputs": [],
   "source": [
    "df2 = df.query(\"~Destination.str.contains('Destinations?')\")"
   ]
  },
  {
   "cell_type": "markdown",
   "id": "ae00e8f4-cb45-41ac-ad10-361a2c771267",
   "metadata": {},
   "source": [
    "* `~` except\n",
    "* `str.contains()` : pandas [str.contains()](https://pandas.pydata.org/pandas-docs/stable/reference/api/pandas.Series.str.contains.html)\n",
    "* ('Destinations **?**')"
   ]
  },
  {
   "cell_type": "code",
   "execution_count": 74,
   "id": "87649586-85da-46ac-86ca-1382f007c461",
   "metadata": {},
   "outputs": [
    {
     "name": "stderr",
     "output_type": "stream",
     "text": [
      "/tmp/ipykernel_452118/4003084761.py:1: SettingWithCopyWarning: \n",
      "A value is trying to be set on a copy of a slice from a DataFrame.\n",
      "Try using .loc[row_indexer,col_indexer] = value instead\n",
      "\n",
      "See the caveats in the documentation: https://pandas.pydata.org/pandas-docs/stable/user_guide/indexing.html#returning-a-view-versus-a-copy\n",
      "  df2[\"Destination\"] = df2[\"Destination\"].replace({\"Slovak Republic\" : \"Slovakia\"})\n"
     ]
    }
   ],
   "source": [
    "df2[\"Destination\"] = df2[\"Destination\"].replace({\"Slovak Republic\" : \"Slovakia\"})"
   ]
  },
  {
   "cell_type": "code",
   "execution_count": 75,
   "id": "e13477b9-058d-4e72-b7e1-450c31c008ff",
   "metadata": {},
   "outputs": [
    {
     "name": "stdout",
     "output_type": "stream",
     "text": [
      "<class 'pandas.core.frame.DataFrame'>\n",
      "Index: 622 entries, 0 to 635\n",
      "Data columns (total 4 columns):\n",
      " #   Column           Non-Null Count  Dtype \n",
      "---  ------           --------------  ----- \n",
      " 0   Destination      622 non-null    object\n",
      " 1   Hotel ceiling    622 non-null    object\n",
      " 2   Daily allowance  622 non-null    object\n",
      " 3   Date             622 non-null    int64 \n",
      "dtypes: int64(1), object(3)\n",
      "memory usage: 24.3+ KB\n"
     ]
    }
   ],
   "source": [
    "df2.info()"
   ]
  },
  {
   "cell_type": "code",
   "execution_count": 76,
   "id": "534a03bd-3b90-4306-9b14-c389cdf106d8",
   "metadata": {},
   "outputs": [
    {
     "name": "stderr",
     "output_type": "stream",
     "text": [
      "/tmp/ipykernel_452118/458300061.py:1: SettingWithCopyWarning: \n",
      "A value is trying to be set on a copy of a slice from a DataFrame.\n",
      "Try using .loc[row_indexer,col_indexer] = value instead\n",
      "\n",
      "See the caveats in the documentation: https://pandas.pydata.org/pandas-docs/stable/user_guide/indexing.html#returning-a-view-versus-a-copy\n",
      "  df2[\"Hotel ceiling\"] = pd.to_numeric(df2[\"Hotel ceiling\"].str.replace(\",\",\".\"))\n",
      "/tmp/ipykernel_452118/458300061.py:2: SettingWithCopyWarning: \n",
      "A value is trying to be set on a copy of a slice from a DataFrame.\n",
      "Try using .loc[row_indexer,col_indexer] = value instead\n",
      "\n",
      "See the caveats in the documentation: https://pandas.pydata.org/pandas-docs/stable/user_guide/indexing.html#returning-a-view-versus-a-copy\n",
      "  df2[\"Daily allowance\"] = pd.to_numeric(df2[\"Daily allowance\"].str.replace(\",\",\".\"))\n"
     ]
    }
   ],
   "source": [
    "df2[\"Hotel ceiling\"] = pd.to_numeric(df2[\"Hotel ceiling\"].str.replace(\",\",\".\"))\n",
    "df2[\"Daily allowance\"] = pd.to_numeric(df2[\"Daily allowance\"].str.replace(\",\",\".\"))"
   ]
  },
  {
   "cell_type": "code",
   "execution_count": 77,
   "id": "603e5a0f-d3a6-4501-81e1-369745b22c6c",
   "metadata": {},
   "outputs": [
    {
     "data": {
      "text/html": [
       "<div>\n",
       "<style scoped>\n",
       "    .dataframe tbody tr th:only-of-type {\n",
       "        vertical-align: middle;\n",
       "    }\n",
       "\n",
       "    .dataframe tbody tr th {\n",
       "        vertical-align: top;\n",
       "    }\n",
       "\n",
       "    .dataframe thead th {\n",
       "        text-align: right;\n",
       "    }\n",
       "</style>\n",
       "<table border=\"1\" class=\"dataframe\">\n",
       "  <thead>\n",
       "    <tr style=\"text-align: right;\">\n",
       "      <th></th>\n",
       "      <th>Hotel ceiling</th>\n",
       "      <th>Daily allowance</th>\n",
       "      <th>Date</th>\n",
       "    </tr>\n",
       "  </thead>\n",
       "  <tbody>\n",
       "    <tr>\n",
       "      <th>count</th>\n",
       "      <td>622.000000</td>\n",
       "      <td>622.000000</td>\n",
       "      <td>6.220000e+02</td>\n",
       "    </tr>\n",
       "    <tr>\n",
       "      <th>mean</th>\n",
       "      <td>130.785225</td>\n",
       "      <td>92.640981</td>\n",
       "      <td>2.013750e+07</td>\n",
       "    </tr>\n",
       "    <tr>\n",
       "      <th>std</th>\n",
       "      <td>30.967412</td>\n",
       "      <td>23.799554</td>\n",
       "      <td>5.925305e+04</td>\n",
       "    </tr>\n",
       "    <tr>\n",
       "      <th>min</th>\n",
       "      <td>50.000000</td>\n",
       "      <td>52.000000</td>\n",
       "      <td>2.004050e+07</td>\n",
       "    </tr>\n",
       "    <tr>\n",
       "      <th>25%</th>\n",
       "      <td>115.000000</td>\n",
       "      <td>74.000000</td>\n",
       "      <td>2.009010e+07</td>\n",
       "    </tr>\n",
       "    <tr>\n",
       "      <th>50%</th>\n",
       "      <td>135.000000</td>\n",
       "      <td>92.000000</td>\n",
       "      <td>2.014050e+07</td>\n",
       "    </tr>\n",
       "    <tr>\n",
       "      <th>75%</th>\n",
       "      <td>150.000000</td>\n",
       "      <td>102.000000</td>\n",
       "      <td>2.019010e+07</td>\n",
       "    </tr>\n",
       "    <tr>\n",
       "      <th>max</th>\n",
       "      <td>209.000000</td>\n",
       "      <td>210.000000</td>\n",
       "      <td>2.023010e+07</td>\n",
       "    </tr>\n",
       "  </tbody>\n",
       "</table>\n",
       "</div>"
      ],
      "text/plain": [
       "       Hotel ceiling  Daily allowance          Date\n",
       "count     622.000000       622.000000  6.220000e+02\n",
       "mean      130.785225        92.640981  2.013750e+07\n",
       "std        30.967412        23.799554  5.925305e+04\n",
       "min        50.000000        52.000000  2.004050e+07\n",
       "25%       115.000000        74.000000  2.009010e+07\n",
       "50%       135.000000        92.000000  2.014050e+07\n",
       "75%       150.000000       102.000000  2.019010e+07\n",
       "max       209.000000       210.000000  2.023010e+07"
      ]
     },
     "execution_count": 77,
     "metadata": {},
     "output_type": "execute_result"
    }
   ],
   "source": [
    "df2.describe()"
   ]
  },
  {
   "cell_type": "code",
   "execution_count": 78,
   "id": "751f6d74-929b-4db7-abe0-de45aa867a2d",
   "metadata": {},
   "outputs": [
    {
     "data": {
      "text/html": [
       "<div>\n",
       "<style scoped>\n",
       "    .dataframe tbody tr th:only-of-type {\n",
       "        vertical-align: middle;\n",
       "    }\n",
       "\n",
       "    .dataframe tbody tr th {\n",
       "        vertical-align: top;\n",
       "    }\n",
       "\n",
       "    .dataframe thead th {\n",
       "        text-align: right;\n",
       "    }\n",
       "</style>\n",
       "<table border=\"1\" class=\"dataframe\">\n",
       "  <thead>\n",
       "    <tr style=\"text-align: right;\">\n",
       "      <th></th>\n",
       "      <th>Hotel ceiling</th>\n",
       "      <th>Daily allowance</th>\n",
       "      <th>Date</th>\n",
       "    </tr>\n",
       "    <tr>\n",
       "      <th>Destination</th>\n",
       "      <th></th>\n",
       "      <th></th>\n",
       "      <th></th>\n",
       "    </tr>\n",
       "  </thead>\n",
       "  <tbody>\n",
       "    <tr>\n",
       "      <th>United Kingdom</th>\n",
       "      <td>176.811739</td>\n",
       "      <td>116.656087</td>\n",
       "      <td>2.013553e+07</td>\n",
       "    </tr>\n",
       "    <tr>\n",
       "      <th>Sweden</th>\n",
       "      <td>161.814348</td>\n",
       "      <td>110.665652</td>\n",
       "      <td>2.013553e+07</td>\n",
       "    </tr>\n",
       "    <tr>\n",
       "      <th>Netherlands</th>\n",
       "      <td>156.468696</td>\n",
       "      <td>101.968696</td>\n",
       "      <td>2.013553e+07</td>\n",
       "    </tr>\n",
       "    <tr>\n",
       "      <th>Romania</th>\n",
       "      <td>153.894737</td>\n",
       "      <td>56.736842</td>\n",
       "      <td>2.015293e+07</td>\n",
       "    </tr>\n",
       "    <tr>\n",
       "      <th>Bulgaria</th>\n",
       "      <td>152.894737</td>\n",
       "      <td>57.526316</td>\n",
       "      <td>2.015293e+07</td>\n",
       "    </tr>\n",
       "    <tr>\n",
       "      <th>France</th>\n",
       "      <td>151.640870</td>\n",
       "      <td>98.035217</td>\n",
       "      <td>2.013553e+07</td>\n",
       "    </tr>\n",
       "    <tr>\n",
       "      <th>Denmark</th>\n",
       "      <td>151.395652</td>\n",
       "      <td>125.226522</td>\n",
       "      <td>2.013553e+07</td>\n",
       "    </tr>\n",
       "    <tr>\n",
       "      <th>Ireland</th>\n",
       "      <td>144.513913</td>\n",
       "      <td>110.172174</td>\n",
       "      <td>2.013553e+07</td>\n",
       "    </tr>\n",
       "    <tr>\n",
       "      <th>Luxembourg</th>\n",
       "      <td>137.956522</td>\n",
       "      <td>96.293913</td>\n",
       "      <td>2.013553e+07</td>\n",
       "    </tr>\n",
       "    <tr>\n",
       "      <th>Belgium</th>\n",
       "      <td>135.833913</td>\n",
       "      <td>99.184348</td>\n",
       "      <td>2.013553e+07</td>\n",
       "    </tr>\n",
       "    <tr>\n",
       "      <th>Finland</th>\n",
       "      <td>134.566087</td>\n",
       "      <td>112.345217</td>\n",
       "      <td>2.013553e+07</td>\n",
       "    </tr>\n",
       "    <tr>\n",
       "      <th>Cyprus</th>\n",
       "      <td>130.652174</td>\n",
       "      <td>93.260870</td>\n",
       "      <td>2.013553e+07</td>\n",
       "    </tr>\n",
       "    <tr>\n",
       "      <th>Italy</th>\n",
       "      <td>130.348696</td>\n",
       "      <td>98.695217</td>\n",
       "      <td>2.013553e+07</td>\n",
       "    </tr>\n",
       "    <tr>\n",
       "      <th>Czech Republic</th>\n",
       "      <td>129.826087</td>\n",
       "      <td>86.086957</td>\n",
       "      <td>2.013553e+07</td>\n",
       "    </tr>\n",
       "    <tr>\n",
       "      <th>Latvia</th>\n",
       "      <td>125.826087</td>\n",
       "      <td>81.652174</td>\n",
       "      <td>2.013553e+07</td>\n",
       "    </tr>\n",
       "    <tr>\n",
       "      <th>Hungary</th>\n",
       "      <td>125.217391</td>\n",
       "      <td>81.000000</td>\n",
       "      <td>2.013553e+07</td>\n",
       "    </tr>\n",
       "    <tr>\n",
       "      <th>Austria</th>\n",
       "      <td>123.539565</td>\n",
       "      <td>102.119130</td>\n",
       "      <td>2.013553e+07</td>\n",
       "    </tr>\n",
       "    <tr>\n",
       "      <th>Poland</th>\n",
       "      <td>122.565217</td>\n",
       "      <td>88.043478</td>\n",
       "      <td>2.013553e+07</td>\n",
       "    </tr>\n",
       "    <tr>\n",
       "      <th>Greece</th>\n",
       "      <td>119.396522</td>\n",
       "      <td>84.299565</td>\n",
       "      <td>2.013553e+07</td>\n",
       "    </tr>\n",
       "    <tr>\n",
       "      <th>Spain</th>\n",
       "      <td>118.855217</td>\n",
       "      <td>92.552609</td>\n",
       "      <td>2.013553e+07</td>\n",
       "    </tr>\n",
       "    <tr>\n",
       "      <th>Malta</th>\n",
       "      <td>116.826087</td>\n",
       "      <td>92.478261</td>\n",
       "      <td>2.013553e+07</td>\n",
       "    </tr>\n",
       "    <tr>\n",
       "      <th>Germany</th>\n",
       "      <td>114.757391</td>\n",
       "      <td>95.090870</td>\n",
       "      <td>2.013553e+07</td>\n",
       "    </tr>\n",
       "    <tr>\n",
       "      <th>Lithuania</th>\n",
       "      <td>111.217391</td>\n",
       "      <td>81.695652</td>\n",
       "      <td>2.013553e+07</td>\n",
       "    </tr>\n",
       "    <tr>\n",
       "      <th>Croatia</th>\n",
       "      <td>110.000000</td>\n",
       "      <td>75.000000</td>\n",
       "      <td>2.019804e+07</td>\n",
       "    </tr>\n",
       "    <tr>\n",
       "      <th>Slovenia</th>\n",
       "      <td>106.217391</td>\n",
       "      <td>80.695652</td>\n",
       "      <td>2.013553e+07</td>\n",
       "    </tr>\n",
       "    <tr>\n",
       "      <th>Portugal</th>\n",
       "      <td>105.901304</td>\n",
       "      <td>88.942174</td>\n",
       "      <td>2.013553e+07</td>\n",
       "    </tr>\n",
       "    <tr>\n",
       "      <th>Slovakia</th>\n",
       "      <td>105.434783</td>\n",
       "      <td>83.521739</td>\n",
       "      <td>2.013553e+07</td>\n",
       "    </tr>\n",
       "    <tr>\n",
       "      <th>Estonia</th>\n",
       "      <td>102.826087</td>\n",
       "      <td>80.913043</td>\n",
       "      <td>2.013553e+07</td>\n",
       "    </tr>\n",
       "  </tbody>\n",
       "</table>\n",
       "</div>"
      ],
      "text/plain": [
       "                Hotel ceiling  Daily allowance          Date\n",
       "Destination                                                 \n",
       "United Kingdom     176.811739       116.656087  2.013553e+07\n",
       "Sweden             161.814348       110.665652  2.013553e+07\n",
       "Netherlands        156.468696       101.968696  2.013553e+07\n",
       "Romania            153.894737        56.736842  2.015293e+07\n",
       "Bulgaria           152.894737        57.526316  2.015293e+07\n",
       "France             151.640870        98.035217  2.013553e+07\n",
       "Denmark            151.395652       125.226522  2.013553e+07\n",
       "Ireland            144.513913       110.172174  2.013553e+07\n",
       "Luxembourg         137.956522        96.293913  2.013553e+07\n",
       "Belgium            135.833913        99.184348  2.013553e+07\n",
       "Finland            134.566087       112.345217  2.013553e+07\n",
       "Cyprus             130.652174        93.260870  2.013553e+07\n",
       "Italy              130.348696        98.695217  2.013553e+07\n",
       "Czech Republic     129.826087        86.086957  2.013553e+07\n",
       "Latvia             125.826087        81.652174  2.013553e+07\n",
       "Hungary            125.217391        81.000000  2.013553e+07\n",
       "Austria            123.539565       102.119130  2.013553e+07\n",
       "Poland             122.565217        88.043478  2.013553e+07\n",
       "Greece             119.396522        84.299565  2.013553e+07\n",
       "Spain              118.855217        92.552609  2.013553e+07\n",
       "Malta              116.826087        92.478261  2.013553e+07\n",
       "Germany            114.757391        95.090870  2.013553e+07\n",
       "Lithuania          111.217391        81.695652  2.013553e+07\n",
       "Croatia            110.000000        75.000000  2.019804e+07\n",
       "Slovenia           106.217391        80.695652  2.013553e+07\n",
       "Portugal           105.901304        88.942174  2.013553e+07\n",
       "Slovakia           105.434783        83.521739  2.013553e+07\n",
       "Estonia            102.826087        80.913043  2.013553e+07"
      ]
     },
     "execution_count": 78,
     "metadata": {},
     "output_type": "execute_result"
    }
   ],
   "source": [
    "df2.groupby(\"Destination\").mean().sort_values(\"Hotel ceiling\", ascending=False)"
   ]
  },
  {
   "cell_type": "code",
   "execution_count": 79,
   "id": "1f0d7ef8-7a40-4d7e-9d9c-b9723bf8ea4c",
   "metadata": {},
   "outputs": [
    {
     "data": {
      "text/html": [
       "<div>\n",
       "<style scoped>\n",
       "    .dataframe tbody tr th:only-of-type {\n",
       "        vertical-align: middle;\n",
       "    }\n",
       "\n",
       "    .dataframe tbody tr th {\n",
       "        vertical-align: top;\n",
       "    }\n",
       "\n",
       "    .dataframe thead th {\n",
       "        text-align: right;\n",
       "    }\n",
       "</style>\n",
       "<table border=\"1\" class=\"dataframe\">\n",
       "  <thead>\n",
       "    <tr style=\"text-align: right;\">\n",
       "      <th></th>\n",
       "      <th>Destination</th>\n",
       "      <th>Hotel ceiling</th>\n",
       "      <th>Daily allowance</th>\n",
       "      <th>Date</th>\n",
       "    </tr>\n",
       "  </thead>\n",
       "  <tbody>\n",
       "    <tr>\n",
       "      <th>26</th>\n",
       "      <td>Sweden</td>\n",
       "      <td>187.00</td>\n",
       "      <td>117.00</td>\n",
       "      <td>20230101</td>\n",
       "    </tr>\n",
       "    <tr>\n",
       "      <th>54</th>\n",
       "      <td>Sweden</td>\n",
       "      <td>187.00</td>\n",
       "      <td>117.00</td>\n",
       "      <td>20220701</td>\n",
       "    </tr>\n",
       "    <tr>\n",
       "      <th>82</th>\n",
       "      <td>Sweden</td>\n",
       "      <td>187.00</td>\n",
       "      <td>117.00</td>\n",
       "      <td>20220101</td>\n",
       "    </tr>\n",
       "    <tr>\n",
       "      <th>110</th>\n",
       "      <td>Sweden</td>\n",
       "      <td>187.00</td>\n",
       "      <td>117.00</td>\n",
       "      <td>20210101</td>\n",
       "    </tr>\n",
       "    <tr>\n",
       "      <th>138</th>\n",
       "      <td>Sweden</td>\n",
       "      <td>187.00</td>\n",
       "      <td>117.00</td>\n",
       "      <td>20200101</td>\n",
       "    </tr>\n",
       "    <tr>\n",
       "      <th>166</th>\n",
       "      <td>Sweden</td>\n",
       "      <td>187.00</td>\n",
       "      <td>117.00</td>\n",
       "      <td>20190101</td>\n",
       "    </tr>\n",
       "    <tr>\n",
       "      <th>194</th>\n",
       "      <td>Sweden</td>\n",
       "      <td>187.00</td>\n",
       "      <td>117.00</td>\n",
       "      <td>20180101</td>\n",
       "    </tr>\n",
       "    <tr>\n",
       "      <th>222</th>\n",
       "      <td>Sweden</td>\n",
       "      <td>187.00</td>\n",
       "      <td>117.00</td>\n",
       "      <td>20170101</td>\n",
       "    </tr>\n",
       "    <tr>\n",
       "      <th>250</th>\n",
       "      <td>Sweden</td>\n",
       "      <td>187.00</td>\n",
       "      <td>117.00</td>\n",
       "      <td>20160910</td>\n",
       "    </tr>\n",
       "    <tr>\n",
       "      <th>278</th>\n",
       "      <td>Sweden</td>\n",
       "      <td>160.00</td>\n",
       "      <td>97.00</td>\n",
       "      <td>20160101</td>\n",
       "    </tr>\n",
       "    <tr>\n",
       "      <th>306</th>\n",
       "      <td>Sweden</td>\n",
       "      <td>160.00</td>\n",
       "      <td>97.00</td>\n",
       "      <td>20140701</td>\n",
       "    </tr>\n",
       "    <tr>\n",
       "      <th>334</th>\n",
       "      <td>Sweden</td>\n",
       "      <td>160.00</td>\n",
       "      <td>97.00</td>\n",
       "      <td>20140501</td>\n",
       "    </tr>\n",
       "    <tr>\n",
       "      <th>362</th>\n",
       "      <td>Sweden</td>\n",
       "      <td>160.00</td>\n",
       "      <td>97.00</td>\n",
       "      <td>20140101</td>\n",
       "    </tr>\n",
       "    <tr>\n",
       "      <th>390</th>\n",
       "      <td>Sweden</td>\n",
       "      <td>160.00</td>\n",
       "      <td>97.00</td>\n",
       "      <td>20110101</td>\n",
       "    </tr>\n",
       "    <tr>\n",
       "      <th>418</th>\n",
       "      <td>Sweden</td>\n",
       "      <td>160.00</td>\n",
       "      <td>97.00</td>\n",
       "      <td>20100101</td>\n",
       "    </tr>\n",
       "    <tr>\n",
       "      <th>446</th>\n",
       "      <td>Sweden</td>\n",
       "      <td>160.00</td>\n",
       "      <td>97.00</td>\n",
       "      <td>20090714</td>\n",
       "    </tr>\n",
       "    <tr>\n",
       "      <th>474</th>\n",
       "      <td>Sweden</td>\n",
       "      <td>160.00</td>\n",
       "      <td>97.00</td>\n",
       "      <td>20090101</td>\n",
       "    </tr>\n",
       "    <tr>\n",
       "      <th>502</th>\n",
       "      <td>Sweden</td>\n",
       "      <td>160.00</td>\n",
       "      <td>97.00</td>\n",
       "      <td>20080501</td>\n",
       "    </tr>\n",
       "    <tr>\n",
       "      <th>530</th>\n",
       "      <td>Sweden</td>\n",
       "      <td>160.00</td>\n",
       "      <td>97.00</td>\n",
       "      <td>20070501</td>\n",
       "    </tr>\n",
       "    <tr>\n",
       "      <th>556</th>\n",
       "      <td>Sweden</td>\n",
       "      <td>160.00</td>\n",
       "      <td>97.00</td>\n",
       "      <td>20060701</td>\n",
       "    </tr>\n",
       "    <tr>\n",
       "      <th>582</th>\n",
       "      <td>Sweden</td>\n",
       "      <td>92.91</td>\n",
       "      <td>141.77</td>\n",
       "      <td>20060101</td>\n",
       "    </tr>\n",
       "    <tr>\n",
       "      <th>608</th>\n",
       "      <td>Sweden</td>\n",
       "      <td>92.91</td>\n",
       "      <td>141.77</td>\n",
       "      <td>20050101</td>\n",
       "    </tr>\n",
       "    <tr>\n",
       "      <th>634</th>\n",
       "      <td>Sweden</td>\n",
       "      <td>92.91</td>\n",
       "      <td>141.77</td>\n",
       "      <td>20040501</td>\n",
       "    </tr>\n",
       "  </tbody>\n",
       "</table>\n",
       "</div>"
      ],
      "text/plain": [
       "    Destination  Hotel ceiling  Daily allowance      Date\n",
       "26       Sweden         187.00           117.00  20230101\n",
       "54       Sweden         187.00           117.00  20220701\n",
       "82       Sweden         187.00           117.00  20220101\n",
       "110      Sweden         187.00           117.00  20210101\n",
       "138      Sweden         187.00           117.00  20200101\n",
       "166      Sweden         187.00           117.00  20190101\n",
       "194      Sweden         187.00           117.00  20180101\n",
       "222      Sweden         187.00           117.00  20170101\n",
       "250      Sweden         187.00           117.00  20160910\n",
       "278      Sweden         160.00            97.00  20160101\n",
       "306      Sweden         160.00            97.00  20140701\n",
       "334      Sweden         160.00            97.00  20140501\n",
       "362      Sweden         160.00            97.00  20140101\n",
       "390      Sweden         160.00            97.00  20110101\n",
       "418      Sweden         160.00            97.00  20100101\n",
       "446      Sweden         160.00            97.00  20090714\n",
       "474      Sweden         160.00            97.00  20090101\n",
       "502      Sweden         160.00            97.00  20080501\n",
       "530      Sweden         160.00            97.00  20070501\n",
       "556      Sweden         160.00            97.00  20060701\n",
       "582      Sweden          92.91           141.77  20060101\n",
       "608      Sweden          92.91           141.77  20050101\n",
       "634      Sweden          92.91           141.77  20040501"
      ]
     },
     "execution_count": 79,
     "metadata": {},
     "output_type": "execute_result"
    }
   ],
   "source": [
    "df2.query(\"Destination == 'Sweden'\")"
   ]
  },
  {
   "cell_type": "code",
   "execution_count": 81,
   "id": "b564dfef-20c6-4670-9227-318ebb228b3f",
   "metadata": {},
   "outputs": [
    {
     "name": "stdout",
     "output_type": "stream",
     "text": [
      "<class 'pandas.core.frame.DataFrame'>\n",
      "Index: 622 entries, 0 to 635\n",
      "Data columns (total 4 columns):\n",
      " #   Column           Non-Null Count  Dtype  \n",
      "---  ------           --------------  -----  \n",
      " 0   Destination      622 non-null    object \n",
      " 1   Hotel ceiling    622 non-null    float64\n",
      " 2   Daily allowance  622 non-null    float64\n",
      " 3   Date             622 non-null    int64  \n",
      "dtypes: float64(2), int64(1), object(1)\n",
      "memory usage: 24.3+ KB\n"
     ]
    }
   ],
   "source": [
    "df2.info()"
   ]
  },
  {
   "cell_type": "code",
   "execution_count": 82,
   "id": "12f8a7e7-1df1-449a-a28b-d345219e55df",
   "metadata": {},
   "outputs": [
    {
     "name": "stderr",
     "output_type": "stream",
     "text": [
      "/tmp/ipykernel_452118/2307183852.py:1: SettingWithCopyWarning: \n",
      "A value is trying to be set on a copy of a slice from a DataFrame.\n",
      "Try using .loc[row_indexer,col_indexer] = value instead\n",
      "\n",
      "See the caveats in the documentation: https://pandas.pydata.org/pandas-docs/stable/user_guide/indexing.html#returning-a-view-versus-a-copy\n",
      "  df2['Date'] = pd.to_datetime(df2['Date'], format=\"%Y%m%d\")\n"
     ]
    }
   ],
   "source": [
    "df2['Date'] = pd.to_datetime(df2['Date'], format=\"%Y%m%d\")"
   ]
  },
  {
   "cell_type": "code",
   "execution_count": 84,
   "id": "2c828aa7-83bf-45bc-bcd0-6ed333a5c34c",
   "metadata": {},
   "outputs": [
    {
     "name": "stdout",
     "output_type": "stream",
     "text": [
      "<class 'pandas.core.frame.DataFrame'>\n",
      "Index: 622 entries, 0 to 635\n",
      "Data columns (total 4 columns):\n",
      " #   Column           Non-Null Count  Dtype         \n",
      "---  ------           --------------  -----         \n",
      " 0   Destination      622 non-null    object        \n",
      " 1   Hotel ceiling    622 non-null    float64       \n",
      " 2   Daily allowance  622 non-null    float64       \n",
      " 3   Date             622 non-null    datetime64[ns]\n",
      "dtypes: datetime64[ns](1), float64(2), object(1)\n",
      "memory usage: 24.3+ KB\n"
     ]
    }
   ],
   "source": [
    "df2.info()"
   ]
  },
  {
   "cell_type": "code",
   "execution_count": 90,
   "id": "5922ec17-0fd1-4102-b87f-c2d1dc48904e",
   "metadata": {},
   "outputs": [
    {
     "data": {
      "text/html": [
       "<div>\n",
       "<style scoped>\n",
       "    .dataframe tbody tr th:only-of-type {\n",
       "        vertical-align: middle;\n",
       "    }\n",
       "\n",
       "    .dataframe tbody tr th {\n",
       "        vertical-align: top;\n",
       "    }\n",
       "\n",
       "    .dataframe thead th {\n",
       "        text-align: right;\n",
       "    }\n",
       "</style>\n",
       "<table border=\"1\" class=\"dataframe\">\n",
       "  <thead>\n",
       "    <tr style=\"text-align: right;\">\n",
       "      <th></th>\n",
       "      <th>5780</th>\n",
       "      <th>6081</th>\n",
       "      <th>814</th>\n",
       "    </tr>\n",
       "  </thead>\n",
       "  <tbody>\n",
       "    <tr>\n",
       "      <th>STRUCTURE</th>\n",
       "      <td>dataflow</td>\n",
       "      <td>dataflow</td>\n",
       "      <td>dataflow</td>\n",
       "    </tr>\n",
       "    <tr>\n",
       "      <th>STRUCTURE_ID</th>\n",
       "      <td>ESTAT:PRC_HICP_MIDX(1.0)</td>\n",
       "      <td>ESTAT:PRC_HICP_MIDX(1.0)</td>\n",
       "      <td>ESTAT:PRC_HICP_MIDX(1.0)</td>\n",
       "    </tr>\n",
       "    <tr>\n",
       "      <th>STRUCTURE_NAME</th>\n",
       "      <td>HICP - monthly data (index)</td>\n",
       "      <td>HICP - monthly data (index)</td>\n",
       "      <td>HICP - monthly data (index)</td>\n",
       "    </tr>\n",
       "    <tr>\n",
       "      <th>freq</th>\n",
       "      <td>M</td>\n",
       "      <td>M</td>\n",
       "      <td>M</td>\n",
       "    </tr>\n",
       "    <tr>\n",
       "      <th>Time frequency</th>\n",
       "      <td>Monthly</td>\n",
       "      <td>Monthly</td>\n",
       "      <td>Monthly</td>\n",
       "    </tr>\n",
       "    <tr>\n",
       "      <th>unit</th>\n",
       "      <td>I05</td>\n",
       "      <td>I05</td>\n",
       "      <td>I05</td>\n",
       "    </tr>\n",
       "    <tr>\n",
       "      <th>Unit of measure</th>\n",
       "      <td>Index, 2005=100</td>\n",
       "      <td>Index, 2005=100</td>\n",
       "      <td>Index, 2005=100</td>\n",
       "    </tr>\n",
       "    <tr>\n",
       "      <th>coicop</th>\n",
       "      <td>CP11</td>\n",
       "      <td>CP11</td>\n",
       "      <td>CP11</td>\n",
       "    </tr>\n",
       "    <tr>\n",
       "      <th>Classification of individual consumption by purpose (COICOP)</th>\n",
       "      <td>Restaurants and hotels</td>\n",
       "      <td>Restaurants and hotels</td>\n",
       "      <td>Restaurants and hotels</td>\n",
       "    </tr>\n",
       "    <tr>\n",
       "      <th>geo</th>\n",
       "      <td>NO</td>\n",
       "      <td>PL</td>\n",
       "      <td>CH</td>\n",
       "    </tr>\n",
       "    <tr>\n",
       "      <th>Geopolitical entity (reporting)</th>\n",
       "      <td>Norway</td>\n",
       "      <td>Poland</td>\n",
       "      <td>Switzerland</td>\n",
       "    </tr>\n",
       "    <tr>\n",
       "      <th>TIME_PERIOD</th>\n",
       "      <td>2011-07</td>\n",
       "      <td>2016-10</td>\n",
       "      <td>2013-04</td>\n",
       "    </tr>\n",
       "    <tr>\n",
       "      <th>Time</th>\n",
       "      <td>NaN</td>\n",
       "      <td>NaN</td>\n",
       "      <td>NaN</td>\n",
       "    </tr>\n",
       "    <tr>\n",
       "      <th>OBS_VALUE</th>\n",
       "      <td>123.3</td>\n",
       "      <td>140.1</td>\n",
       "      <td>110.6</td>\n",
       "    </tr>\n",
       "    <tr>\n",
       "      <th>Observation value</th>\n",
       "      <td>NaN</td>\n",
       "      <td>NaN</td>\n",
       "      <td>NaN</td>\n",
       "    </tr>\n",
       "    <tr>\n",
       "      <th>OBS_FLAG</th>\n",
       "      <td>NaN</td>\n",
       "      <td>NaN</td>\n",
       "      <td>NaN</td>\n",
       "    </tr>\n",
       "    <tr>\n",
       "      <th>Observation status (Flag)</th>\n",
       "      <td>NaN</td>\n",
       "      <td>NaN</td>\n",
       "      <td>NaN</td>\n",
       "    </tr>\n",
       "  </tbody>\n",
       "</table>\n",
       "</div>"
      ],
      "text/plain": [
       "                                                                           5780  \\\n",
       "STRUCTURE                                                              dataflow   \n",
       "STRUCTURE_ID                                           ESTAT:PRC_HICP_MIDX(1.0)   \n",
       "STRUCTURE_NAME                                      HICP - monthly data (index)   \n",
       "freq                                                                          M   \n",
       "Time frequency                                                          Monthly   \n",
       "unit                                                                        I05   \n",
       "Unit of measure                                                 Index, 2005=100   \n",
       "coicop                                                                     CP11   \n",
       "Classification of individual consumption by pur...       Restaurants and hotels   \n",
       "geo                                                                          NO   \n",
       "Geopolitical entity (reporting)                                          Norway   \n",
       "TIME_PERIOD                                                             2011-07   \n",
       "Time                                                                        NaN   \n",
       "OBS_VALUE                                                                 123.3   \n",
       "Observation value                                                           NaN   \n",
       "OBS_FLAG                                                                    NaN   \n",
       "Observation status (Flag)                                                   NaN   \n",
       "\n",
       "                                                                           6081  \\\n",
       "STRUCTURE                                                              dataflow   \n",
       "STRUCTURE_ID                                           ESTAT:PRC_HICP_MIDX(1.0)   \n",
       "STRUCTURE_NAME                                      HICP - monthly data (index)   \n",
       "freq                                                                          M   \n",
       "Time frequency                                                          Monthly   \n",
       "unit                                                                        I05   \n",
       "Unit of measure                                                 Index, 2005=100   \n",
       "coicop                                                                     CP11   \n",
       "Classification of individual consumption by pur...       Restaurants and hotels   \n",
       "geo                                                                          PL   \n",
       "Geopolitical entity (reporting)                                          Poland   \n",
       "TIME_PERIOD                                                             2016-10   \n",
       "Time                                                                        NaN   \n",
       "OBS_VALUE                                                                 140.1   \n",
       "Observation value                                                           NaN   \n",
       "OBS_FLAG                                                                    NaN   \n",
       "Observation status (Flag)                                                   NaN   \n",
       "\n",
       "                                                                           814   \n",
       "STRUCTURE                                                              dataflow  \n",
       "STRUCTURE_ID                                           ESTAT:PRC_HICP_MIDX(1.0)  \n",
       "STRUCTURE_NAME                                      HICP - monthly data (index)  \n",
       "freq                                                                          M  \n",
       "Time frequency                                                          Monthly  \n",
       "unit                                                                        I05  \n",
       "Unit of measure                                                 Index, 2005=100  \n",
       "coicop                                                                     CP11  \n",
       "Classification of individual consumption by pur...       Restaurants and hotels  \n",
       "geo                                                                          CH  \n",
       "Geopolitical entity (reporting)                                     Switzerland  \n",
       "TIME_PERIOD                                                             2013-04  \n",
       "Time                                                                        NaN  \n",
       "OBS_VALUE                                                                 110.6  \n",
       "Observation value                                                           NaN  \n",
       "OBS_FLAG                                                                    NaN  \n",
       "Observation status (Flag)                                                   NaN  "
      ]
     },
     "execution_count": 90,
     "metadata": {},
     "output_type": "execute_result"
    }
   ],
   "source": [
    "df_inflation = pd.read_csv(\"inflation_data.csv\")\n",
    "df_inflation.sample(3).T"
   ]
  },
  {
   "cell_type": "code",
   "execution_count": 95,
   "id": "83e474b1-9f01-4ca7-b179-2d9ba4f11016",
   "metadata": {},
   "outputs": [
    {
     "data": {
      "text/plain": [
       "array(['dataflow'], dtype=object)"
      ]
     },
     "metadata": {},
     "output_type": "display_data"
    },
    {
     "data": {
      "text/plain": [
       "array(['ESTAT:PRC_HICP_MIDX(1.0)'], dtype=object)"
      ]
     },
     "metadata": {},
     "output_type": "display_data"
    },
    {
     "data": {
      "text/plain": [
       "array(['HICP - monthly data (index)'], dtype=object)"
      ]
     },
     "metadata": {},
     "output_type": "display_data"
    },
    {
     "data": {
      "text/plain": [
       "array(['M'], dtype=object)"
      ]
     },
     "metadata": {},
     "output_type": "display_data"
    },
    {
     "data": {
      "text/plain": [
       "array(['Monthly'], dtype=object)"
      ]
     },
     "metadata": {},
     "output_type": "display_data"
    },
    {
     "data": {
      "text/plain": [
       "array(['I05'], dtype=object)"
      ]
     },
     "metadata": {},
     "output_type": "display_data"
    },
    {
     "data": {
      "text/plain": [
       "array(['Index, 2005=100'], dtype=object)"
      ]
     },
     "metadata": {},
     "output_type": "display_data"
    },
    {
     "data": {
      "text/plain": [
       "array(['CP11'], dtype=object)"
      ]
     },
     "metadata": {},
     "output_type": "display_data"
    },
    {
     "data": {
      "text/plain": [
       "array(['Restaurants and hotels'], dtype=object)"
      ]
     },
     "metadata": {},
     "output_type": "display_data"
    },
    {
     "data": {
      "text/plain": [
       "array(['AT', 'BE', 'BG', 'CH', 'CY', 'CZ', 'DE', 'DK', 'EE', 'EL', 'ES',\n",
       "       'FI', 'FR', 'HR', 'HU', 'IE', 'IS', 'IT', 'LT', 'LU', 'LV', 'MK',\n",
       "       'MT', 'NL', 'NO', 'PL', 'PT', 'RO', 'SE', 'SI', 'SK', 'UK'],\n",
       "      dtype=object)"
      ]
     },
     "metadata": {},
     "output_type": "display_data"
    },
    {
     "data": {
      "text/plain": [
       "array(['Austria', 'Belgium', 'Bulgaria', 'Switzerland', 'Cyprus',\n",
       "       'Czechia', 'Germany', 'Denmark', 'Estonia', 'Greece', 'Spain',\n",
       "       'Finland', 'France', 'Croatia', 'Hungary', 'Ireland', 'Iceland',\n",
       "       'Italy', 'Lithuania', 'Luxembourg', 'Latvia', 'North Macedonia',\n",
       "       'Malta', 'Netherlands', 'Norway', 'Poland', 'Portugal', 'Romania',\n",
       "       'Sweden', 'Slovenia', 'Slovakia', 'United Kingdom'], dtype=object)"
      ]
     },
     "metadata": {},
     "output_type": "display_data"
    },
    {
     "data": {
      "text/plain": [
       "array(['2004-01', '2004-02', '2004-03', '2004-04', '2004-05', '2004-06',\n",
       "       '2004-07', '2004-08', '2004-09', '2004-10', '2004-11', '2004-12',\n",
       "       '2005-01', '2005-02', '2005-03', '2005-04', '2005-05', '2005-06',\n",
       "       '2005-07', '2005-08', '2005-09', '2005-10', '2005-11', '2005-12',\n",
       "       '2006-01', '2006-02', '2006-03', '2006-04', '2006-05', '2006-06',\n",
       "       '2006-07', '2006-08', '2006-09', '2006-10', '2006-11', '2006-12',\n",
       "       '2007-01', '2007-02', '2007-03', '2007-04', '2007-05', '2007-06',\n",
       "       '2007-07', '2007-08', '2007-09', '2007-10', '2007-11', '2007-12',\n",
       "       '2008-01', '2008-02', '2008-03', '2008-04', '2008-05', '2008-06',\n",
       "       '2008-07', '2008-08', '2008-09', '2008-10', '2008-11', '2008-12',\n",
       "       '2009-01', '2009-02', '2009-03', '2009-04', '2009-05', '2009-06',\n",
       "       '2009-07', '2009-08', '2009-09', '2009-10', '2009-11', '2009-12',\n",
       "       '2010-01', '2010-02', '2010-03', '2010-04', '2010-05', '2010-06',\n",
       "       '2010-07', '2010-08', '2010-09', '2010-10', '2010-11', '2010-12',\n",
       "       '2011-01', '2011-02', '2011-03', '2011-04', '2011-05', '2011-06',\n",
       "       '2011-07', '2011-08', '2011-09', '2011-10', '2011-11', '2011-12',\n",
       "       '2012-01', '2012-02', '2012-03', '2012-04', '2012-05', '2012-06',\n",
       "       '2012-07', '2012-08', '2012-09', '2012-10', '2012-11', '2012-12',\n",
       "       '2013-01', '2013-02', '2013-03', '2013-04', '2013-05', '2013-06',\n",
       "       '2013-07', '2013-08', '2013-09', '2013-10', '2013-11', '2013-12',\n",
       "       '2014-01', '2014-02', '2014-03', '2014-04', '2014-05', '2014-06',\n",
       "       '2014-07', '2014-08', '2014-09', '2014-10', '2014-11', '2014-12',\n",
       "       '2015-01', '2015-02', '2015-03', '2015-04', '2015-05', '2015-06',\n",
       "       '2015-07', '2015-08', '2015-09', '2015-10', '2015-11', '2015-12',\n",
       "       '2016-01', '2016-02', '2016-03', '2016-04', '2016-05', '2016-06',\n",
       "       '2016-07', '2016-08', '2016-09', '2016-10', '2016-11', '2016-12',\n",
       "       '2017-01', '2017-02', '2017-03', '2017-04', '2017-05', '2017-06',\n",
       "       '2017-07', '2017-08', '2017-09', '2017-10', '2017-11', '2017-12',\n",
       "       '2018-01', '2018-02', '2018-03', '2018-04', '2018-05', '2018-06',\n",
       "       '2018-07', '2018-08', '2018-09', '2018-10', '2018-11', '2018-12',\n",
       "       '2019-01', '2019-02', '2019-03', '2019-04', '2019-05', '2019-06',\n",
       "       '2019-07', '2019-08', '2019-09', '2019-10', '2019-11', '2019-12',\n",
       "       '2020-01', '2020-02', '2020-03', '2020-04', '2020-05', '2020-06',\n",
       "       '2020-07', '2020-08', '2020-09', '2020-10', '2020-11', '2020-12',\n",
       "       '2021-01', '2021-02', '2021-03', '2021-04', '2021-05', '2021-06',\n",
       "       '2021-07', '2021-08', '2021-09', '2021-10', '2021-11', '2021-12',\n",
       "       '2022-01', '2022-02', '2022-03', '2022-04', '2022-05', '2022-06',\n",
       "       '2022-07', '2022-08', '2022-09', '2022-10', '2022-11', '2022-12',\n",
       "       '2023-01', '2023-02', '2023-03', '2023-04', '2023-05', '2023-06',\n",
       "       '2023-07', '2023-08', '2023-09', '2023-10'], dtype=object)"
      ]
     },
     "metadata": {},
     "output_type": "display_data"
    },
    {
     "data": {
      "text/plain": [
       "array([nan])"
      ]
     },
     "metadata": {},
     "output_type": "display_data"
    },
    {
     "data": {
      "text/plain": [
       "array([ 96.99,  97.86,  97.64, ..., 151.8 , 150.8 , 146.7 ])"
      ]
     },
     "metadata": {},
     "output_type": "display_data"
    },
    {
     "data": {
      "text/plain": [
       "array([nan])"
      ]
     },
     "metadata": {},
     "output_type": "display_data"
    },
    {
     "data": {
      "text/plain": [
       "array([nan, 'u', 'd', 'du'], dtype=object)"
      ]
     },
     "metadata": {},
     "output_type": "display_data"
    },
    {
     "data": {
      "text/plain": [
       "array([nan, 'low reliability', 'definition differs (see metadata)',\n",
       "       'definition differs (see metadata), low reliability'], dtype=object)"
      ]
     },
     "metadata": {},
     "output_type": "display_data"
    }
   ],
   "source": [
    "for column in df_inflation.columns:\n",
    "    display(df_inflation[column].unique())\n",
    "#df_inflation[\"Time frequency\"].unique()"
   ]
  },
  {
   "cell_type": "code",
   "execution_count": null,
   "id": "8f01b082-e880-4ebd-9e86-e5abe131f3fa",
   "metadata": {},
   "outputs": [],
   "source": []
  }
 ],
 "metadata": {
  "kernelspec": {
   "display_name": "Python 3 (ipykernel)",
   "language": "python",
   "name": "python3"
  },
  "language_info": {
   "codemirror_mode": {
    "name": "ipython",
    "version": 3
   },
   "file_extension": ".py",
   "mimetype": "text/x-python",
   "name": "python",
   "nbconvert_exporter": "python",
   "pygments_lexer": "ipython3",
   "version": "3.12.0"
  }
 },
 "nbformat": 4,
 "nbformat_minor": 5
}
