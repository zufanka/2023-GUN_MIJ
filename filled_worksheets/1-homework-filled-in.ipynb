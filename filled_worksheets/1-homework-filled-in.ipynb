{
 "cells": [
  {
   "cell_type": "markdown",
   "metadata": {},
   "source": [
    "# Excercises"
   ]
  },
  {
   "cell_type": "markdown",
   "metadata": {},
   "source": [
    "## Strings"
   ]
  },
  {
   "cell_type": "code",
   "execution_count": 2,
   "metadata": {},
   "outputs": [],
   "source": [
    "sentence = \"      Far out in the uncharted backwaters of the unfashionable end of the Western spiral arm of the galaxy lies a small unregarded yellow sun.           \""
   ]
  },
  {
   "cell_type": "code",
   "execution_count": 3,
   "metadata": {},
   "outputs": [
    {
     "data": {
      "text/plain": [
       "'Far out in the uncharted backwaters of the unfashionable end of the Western spiral arm of the galaxy lies a small unregarded yellow sun.'"
      ]
     },
     "execution_count": 3,
     "metadata": {},
     "output_type": "execute_result"
    }
   ],
   "source": [
    "# Remove the whitespaces in the beginning and at the end of sentence\n",
    "sentence.strip()"
   ]
  },
  {
   "cell_type": "code",
   "execution_count": 5,
   "metadata": {},
   "outputs": [
    {
     "data": {
      "text/plain": [
       "153"
      ]
     },
     "execution_count": 5,
     "metadata": {},
     "output_type": "execute_result"
    }
   ],
   "source": [
    "# Print the lenght of sentence\n",
    "len(sentence)"
   ]
  },
  {
   "cell_type": "code",
   "execution_count": 6,
   "metadata": {},
   "outputs": [
    {
     "data": {
      "text/plain": [
       "'      For out in the unchorted bockwoters of the unfoshionoble end of the Western spirol orm of the goloxy lies o smoll unregorded yellow sun.           '"
      ]
     },
     "execution_count": 6,
     "metadata": {},
     "output_type": "execute_result"
    }
   ],
   "source": [
    "# replace all the 'a' with 'o' in sentence\n",
    "sentence.replace(\"a\",\"o\")"
   ]
  },
  {
   "cell_type": "code",
   "execution_count": 11,
   "metadata": {},
   "outputs": [
    {
     "name": "stdout",
     "output_type": "stream",
     "text": [
      "FAR\n",
      "OUT\n",
      "IN\n",
      "THE\n",
      "UNCHARTED\n",
      "BACKWATERS\n",
      "OF\n",
      "THE\n",
      "UNFASHIONABLE\n",
      "END\n",
      "OF\n",
      "THE\n",
      "WESTERN\n",
      "SPIRAL\n",
      "ARM\n",
      "OF\n",
      "THE\n",
      "GALAXY\n",
      "LIES\n",
      "A\n",
      "SMALL\n",
      "UNREGARDED\n",
      "YELLOW\n",
      "SUN.\n"
     ]
    }
   ],
   "source": [
    "# 1. Make a list of words out of sentence - so instead of \"Far out in the...\" it will be [\"Far\", \"out\", \"in\", \"the\"...]\n",
    "# 2. print out the words under each other in upper case\n",
    "for s in sentence.strip().split(\" \"):\n",
    "    print(s.upper())"
   ]
  },
  {
   "cell_type": "code",
   "execution_count": 12,
   "metadata": {},
   "outputs": [
    {
     "data": {
      "text/plain": [
       "['FAR',\n",
       " 'OUT',\n",
       " 'IN',\n",
       " 'THE',\n",
       " 'UNCHARTED',\n",
       " 'BACKWATERS',\n",
       " 'OF',\n",
       " 'THE',\n",
       " 'UNFASHIONABLE',\n",
       " 'END',\n",
       " 'OF',\n",
       " 'THE',\n",
       " 'WESTERN',\n",
       " 'SPIRAL',\n",
       " 'ARM',\n",
       " 'OF',\n",
       " 'THE',\n",
       " 'GALAXY',\n",
       " 'LIES',\n",
       " 'A',\n",
       " 'SMALL',\n",
       " 'UNREGARDED',\n",
       " 'YELLOW',\n",
       " 'SUN.']"
      ]
     },
     "execution_count": 12,
     "metadata": {},
     "output_type": "execute_result"
    }
   ],
   "source": [
    "sentence.upper().split()"
   ]
  },
  {
   "cell_type": "markdown",
   "metadata": {},
   "source": [
    "## Lists"
   ]
  },
  {
   "cell_type": "code",
   "execution_count": 16,
   "metadata": {},
   "outputs": [
    {
     "name": "stdout",
     "output_type": "stream",
     "text": [
      "['VAX', 'CLIMATE EMERGENCY', 'TOXIC', 'YOUTHQUAKE', 'POST-TRUTH', '😂', 'vape', 'selfie']\n"
     ]
    }
   ],
   "source": [
    "oxford_word_oftheyear = [\"VAX\", \"CLIMATE EMERGENCY\", \"TOXIC\", \"YOUTHQUAKE\", \"POST-TRUTH\" ,\"😂\", \"vape\", \"selfie\"]\n",
    "print(oxford_word_oftheyear)"
   ]
  },
  {
   "cell_type": "code",
   "execution_count": 15,
   "metadata": {},
   "outputs": [
    {
     "data": {
      "text/plain": [
       "['TOXIC', 'YOUTHQUAKE', 'POST-TRUTH']"
      ]
     },
     "execution_count": 15,
     "metadata": {},
     "output_type": "execute_result"
    }
   ],
   "source": [
    "# Print only \"TOXIC\", \"YOUTHQUAKE\" and \"POST-TRUTH\" from oxford_word_oftheyear\n",
    "oxford_word_oftheyear[2:5]"
   ]
  },
  {
   "cell_type": "code",
   "execution_count": 19,
   "metadata": {},
   "outputs": [
    {
     "data": {
      "text/plain": [
       "['😂', 'vape', 'selfie']"
      ]
     },
     "execution_count": 19,
     "metadata": {},
     "output_type": "execute_result"
    }
   ],
   "source": [
    "# Print only the last 3 elements of oxford_word_oftheyear\n",
    "oxford_word_oftheyear[-3:]"
   ]
  },
  {
   "cell_type": "markdown",
   "metadata": {},
   "source": [
    "# Dictionaries"
   ]
  },
  {
   "cell_type": "code",
   "execution_count": 22,
   "metadata": {},
   "outputs": [],
   "source": [
    "oxford_word_oftheyear_dict = {\"VAX\" : 2021, \"CLIMATE EMERGENCY\" : 2019, \"TOXIC\" : 2018, \"YOUTHQUAKE\": 2017, \"POST-TRUTH\" :2016,\"😂\" : 2015, \"vape\" : 2014, \"selfie\": 2013}"
   ]
  },
  {
   "cell_type": "code",
   "execution_count": 24,
   "metadata": {},
   "outputs": [
    {
     "data": {
      "text/plain": [
       "{'VAX': 2021,\n",
       " 'CLIMATE EMERGENCY': 2019,\n",
       " 'TOXIC': 2018,\n",
       " 'YOUTHQUAKE': 2017,\n",
       " 'POST-TRUTH': 2016,\n",
       " '😂': 2015,\n",
       " 'vape': 2014,\n",
       " 'selfie': 2013,\n",
       " 'Omnishambles': 2012}"
      ]
     },
     "execution_count": 24,
     "metadata": {},
     "output_type": "execute_result"
    }
   ],
   "source": [
    "# Add the word of the year 2012 : \"Omnishambles\" to this dictionary\n",
    "oxford_word_oftheyear_dict[\"Omnishambles\"] = 2012\n",
    "oxford_word_oftheyear_dict"
   ]
  },
  {
   "cell_type": "code",
   "execution_count": 26,
   "metadata": {},
   "outputs": [
    {
     "data": {
      "text/plain": [
       "{'VAX': 2021,\n",
       " 'CLIMATE EMERGENCY': 2022,\n",
       " 'TOXIC': 2018,\n",
       " 'YOUTHQUAKE': 2017,\n",
       " 'POST-TRUTH': 2016,\n",
       " '😂': 2015,\n",
       " 'vape': 2014,\n",
       " 'selfie': 2013,\n",
       " 'Omnishambles': 2012}"
      ]
     },
     "execution_count": 26,
     "metadata": {},
     "output_type": "execute_result"
    }
   ],
   "source": [
    "# Change the \"CLIMATE EMERGENCY\" to be a word of the year 2022\n",
    "oxford_word_oftheyear_dict['CLIMATE EMERGENCY'] = 2022\n",
    "oxford_word_oftheyear_dict"
   ]
  },
  {
   "cell_type": "markdown",
   "metadata": {},
   "source": [
    "## Loops and conditionals"
   ]
  },
  {
   "cell_type": "code",
   "execution_count": 30,
   "metadata": {},
   "outputs": [
    {
     "name": "stdout",
     "output_type": "stream",
     "text": [
      "[0, 1, 2, 3, 4, 5, 6, 7, 8, 9, 10, 11, 12, 13, 14, 15, 16, 17, 18, 19, 20, 21, 22, 23, 24, 25, 26, 27, 28, 29, 30, 31, 32, 33, 34, 35, 36, 37, 38, 39, 40, 41, 42, 43, 44, 45, 46, 47, 48, 49, 50, 51, 52, 53, 54, 55, 56, 57, 58, 59, 60, 61, 62, 63, 64, 65, 66, 67, 68, 69, 70, 71, 72, 73, 74, 75, 76, 77, 78, 79, 80, 81, 82, 83, 84, 85, 86, 87, 88, 89, 90, 91, 92, 93, 94, 95, 96, 97, 98, 99, 100, 101, 102, 103, 104, 105, 106, 107, 108, 109, 110, 111, 112, 113, 114, 115, 116, 117, 118, 119, 120, 121, 122, 123, 124, 125, 126, 127, 128, 129, 130, 131, 132, 133, 134, 135, 136, 137, 138, 139, 140, 141, 142, 143, 144, 145, 146, 147, 148, 149, 150, 151, 152, 153, 154, 155, 156, 157, 158, 159, 160, 161, 162, 163, 164, 165, 166, 167, 168, 169, 170, 171, 172, 173, 174, 175, 176, 177, 178, 179, 180, 181, 182, 183, 184, 185, 186, 187, 188, 189, 190, 191, 192, 193, 194, 195, 196, 197, 198, 199, 200]\n"
     ]
    }
   ],
   "source": [
    "# Create a list of numbers from 0 to 200 (use a loop)\n",
    "lst = []\n",
    "\n",
    "for n in range(0,201):\n",
    "    lst.append(n)\n",
    "\n",
    "print(lst)"
   ]
  },
  {
   "cell_type": "code",
   "execution_count": 41,
   "metadata": {},
   "outputs": [
    {
     "name": "stdout",
     "output_type": "stream",
     "text": [
      "[38, 31, 39, 49, 3, 40, 22, 36, 46, 44]\n"
     ]
    }
   ],
   "source": [
    "# Create a list of 10 random numbers between 0 and 50 (use a loop)\n",
    "from random import randint\n",
    "\n",
    "lst = []\n",
    "\n",
    "for n in range(10):\n",
    "    m = randint(0,50)\n",
    "    lst.append(m)\n",
    "\n",
    "print(lst)"
   ]
  },
  {
   "cell_type": "code",
   "execution_count": 48,
   "metadata": {},
   "outputs": [
    {
     "data": {
      "text/plain": [
       "[1, 25, 31, 24, 41, 45, 35, 2, 38, 34]"
      ]
     },
     "execution_count": 48,
     "metadata": {},
     "output_type": "execute_result"
    }
   ],
   "source": [
    "from random import sample\n",
    "\n",
    "sample(range(50),10)"
   ]
  },
  {
   "cell_type": "code",
   "execution_count": 45,
   "metadata": {},
   "outputs": [
    {
     "name": "stdout",
     "output_type": "stream",
     "text": [
      "348\n"
     ]
    }
   ],
   "source": [
    "# With another loop, sum of all numbers in this list\n",
    "n = 0\n",
    "\n",
    "for x in lst:\n",
    "    n = n + x\n",
    "    \n",
    "print(n)"
   ]
  },
  {
   "cell_type": "code",
   "execution_count": 44,
   "metadata": {},
   "outputs": [
    {
     "data": {
      "text/plain": [
       "348"
      ]
     },
     "execution_count": 44,
     "metadata": {},
     "output_type": "execute_result"
    }
   ],
   "source": [
    "sum(lst)"
   ]
  },
  {
   "cell_type": "code",
   "execution_count": 47,
   "metadata": {},
   "outputs": [
    {
     "name": "stdout",
     "output_type": "stream",
     "text": [
      "[1, 49, 5, 8, 44, 42, 22, 28, 29, 41]\n",
      "1 is smaller than 20\n",
      "49 is larger than 20\n",
      "5 is smaller than 20\n",
      "8 is smaller than 20\n",
      "44 is larger than 20\n",
      "42 is larger than 20\n",
      "22 is larger than 20\n",
      "28 is larger than 20\n",
      "29 is larger than 20\n",
      "41 is larger than 20\n"
     ]
    }
   ],
   "source": [
    "# Go through a list of random numbers and print out whether the number is smaller or larger than 20\n",
    "random_numbers = sample(range(50),10)\n",
    "print(random_numbers)\n",
    "\n",
    "for n in random_numbers:\n",
    "    if n > 20:\n",
    "        print(f\"{n} is larger than 20\")\n",
    "    else:\n",
    "        print(f\"{n} is smaller than 20\")"
   ]
  },
  {
   "cell_type": "code",
   "execution_count": 52,
   "metadata": {},
   "outputs": [
    {
     "name": "stdout",
     "output_type": "stream",
     "text": [
      "[53, 272, 154, 216, 253, 346, 278, 293, 429, 204, 155, 47, 332, 378, 396, 130, 286, 184, 322, 86, 225, 183, 302, 252, 348, 281, 181, 315, 295, 436]\n",
      "272\n",
      "154\n",
      "216\n",
      "346\n",
      "278\n"
     ]
    }
   ],
   "source": [
    "# Generate a list of 30 random numbers from 0 to 500.\n",
    "# Write a program to print only those numbers from this list that satisfy the following conditions:\n",
    "# Number is divisible by 2\n",
    "# If the number is smaller than 10, skip it and move on to the next number\n",
    "# If the number is greater than 400, then stop the loop.\n",
    "import random\n",
    "\n",
    "a = random.sample(range(500), 30)\n",
    "print(a)\n",
    "\n",
    "for item in a:\n",
    "    if item < 10:\n",
    "        continue\n",
    "    elif item > 400:\n",
    "        break\n",
    "    elif item % 2 == 0:\n",
    "        print(item)"
   ]
  },
  {
   "cell_type": "code",
   "execution_count": null,
   "metadata": {},
   "outputs": [],
   "source": []
  }
 ],
 "metadata": {
  "kernelspec": {
   "display_name": "Python 3 (ipykernel)",
   "language": "python",
   "name": "python3"
  },
  "language_info": {
   "codemirror_mode": {
    "name": "ipython",
    "version": 3
   },
   "file_extension": ".py",
   "mimetype": "text/x-python",
   "name": "python",
   "nbconvert_exporter": "python",
   "pygments_lexer": "ipython3",
   "version": "3.12.0"
  }
 },
 "nbformat": 4,
 "nbformat_minor": 4
}
