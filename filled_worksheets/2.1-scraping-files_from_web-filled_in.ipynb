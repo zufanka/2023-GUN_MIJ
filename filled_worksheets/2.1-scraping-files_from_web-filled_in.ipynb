{
 "cells": [
  {
   "cell_type": "markdown",
   "id": "e7943c9f-fe90-49b2-83ed-42247854ed89",
   "metadata": {},
   "source": [
    "# Scraping files from the web"
   ]
  },
  {
   "cell_type": "markdown",
   "id": "5ce2165d-9ee1-4959-ab5b-17933f392318",
   "metadata": {},
   "source": [
    "For this scraping excercise we'll use only 2 libraries : `pandas` and `requests`\n",
    "- `pandas` : for data analysis and transformation.\n",
    "- `requests` : opens a website\n",
    "Let's import them."
   ]
  },
  {
   "cell_type": "code",
   "execution_count": 33,
   "id": "f5368aba-2d6b-41ae-971b-7ffb1a2b777d",
   "metadata": {},
   "outputs": [],
   "source": [
    "import pandas as pd\n",
    "import requests"
   ]
  },
  {
   "cell_type": "markdown",
   "id": "3e6acc9f-a13d-4733-b641-a2165dee23c0",
   "metadata": {},
   "source": [
    "## Your best friend: the Inspector"
   ]
  },
  {
   "cell_type": "markdown",
   "id": "b47a32a2-ce5b-4bc8-be1c-69d789969df0",
   "metadata": {},
   "source": [
    "![img](img/inspector.png)"
   ]
  },
  {
   "cell_type": "markdown",
   "id": "2a54bf2b-47f9-456c-b280-62b0c8e32ab2",
   "metadata": {},
   "source": [
    "## Excercise 1: csv"
   ]
  },
  {
   "cell_type": "markdown",
   "id": "81e13377-47f3-489d-b93c-e4c2847f81ea",
   "metadata": {},
   "source": [
    "Go to https://integritywatch.eu/organizations.php and get the table out.\n",
    "- Open the Inspector\n",
    "- Go to the `Network` tab & reload the page"
   ]
  },
  {
   "cell_type": "markdown",
   "id": "d3caf682-0ac0-4867-a25e-332fbf4a5f2c",
   "metadata": {},
   "source": [
    "![img](img/inspector_network.png)"
   ]
  },
  {
   "cell_type": "markdown",
   "id": "2aeaa595-5ae5-46bd-95b0-f19b6c5ced78",
   "metadata": {},
   "source": [
    "- Use the pandas [`read_csv`](https://pandas.pydata.org/pandas-docs/stable/reference/api/pandas.read_csv.html) and [`.to_csv()`](https://pandas.pydata.org/pandas-docs/stable/reference/api/pandas.DataFrame.to_csv.html) function "
   ]
  },
  {
   "cell_type": "code",
   "execution_count": 40,
   "id": "a751477e-58f8-4263-9ff9-2d29e1fc62a4",
   "metadata": {},
   "outputs": [],
   "source": [
    "csv_url = \"https://integritywatch.eu/data/lobbyists/organizations_new.csv\"\n",
    "df = pd.read_csv(csv_url)\n",
    "#requests.get(csv_url).text\n",
    "df.to_csv(\"organizations_new.csv\")"
   ]
  },
  {
   "cell_type": "markdown",
   "id": "d3f624a2-d34b-41da-9149-6619e4f28169",
   "metadata": {},
   "source": [
    "## Excercise 2: json"
   ]
  },
  {
   "cell_type": "markdown",
   "id": "12c7e841-20f2-412d-9e28-9514c96a979b",
   "metadata": {},
   "source": [
    "Go to https://integritywatch.eu/ecmeetings.php and get the table out.\n",
    "- Find the underlying file with the Inspectors `Network` tab. (*hint: it's a `.json` file*)\n",
    "- Use the pandas [`read_json`](https://pandas.pydata.org/pandas-docs/stable/reference/api/pandas.read_json.html) and [`.to_csv()`](https://pandas.pydata.org/pandas-docs/stable/reference/api/pandas.DataFrame.to_csv.html) function."
   ]
  },
  {
   "cell_type": "code",
   "execution_count": 41,
   "id": "e99e4cb6-bf90-4f55-81f6-3014371a59a3",
   "metadata": {},
   "outputs": [
    {
     "data": {
      "text/html": [
       "<div>\n",
       "<style scoped>\n",
       "    .dataframe tbody tr th:only-of-type {\n",
       "        vertical-align: middle;\n",
       "    }\n",
       "\n",
       "    .dataframe tbody tr th {\n",
       "        vertical-align: top;\n",
       "    }\n",
       "\n",
       "    .dataframe thead th {\n",
       "        text-align: right;\n",
       "    }\n",
       "</style>\n",
       "<table border=\"1\" class=\"dataframe\">\n",
       "  <thead>\n",
       "    <tr style=\"text-align: right;\">\n",
       "      <th></th>\n",
       "      <th>Cat</th>\n",
       "      <th>Cat2</th>\n",
       "      <th>Host</th>\n",
       "      <th>Org</th>\n",
       "      <th>OrgId</th>\n",
       "      <th>cabinet</th>\n",
       "      <th>date</th>\n",
       "      <th>location</th>\n",
       "      <th>portfolio</th>\n",
       "      <th>subject</th>\n",
       "      <th>type</th>\n",
       "      <th>entities</th>\n",
       "      <th>dgacronym</th>\n",
       "      <th>dgname</th>\n",
       "    </tr>\n",
       "  </thead>\n",
       "  <tbody>\n",
       "    <tr>\n",
       "      <th>0</th>\n",
       "      <td>Trade and business associations</td>\n",
       "      <td>Promotes their own interests or the collective...</td>\n",
       "      <td>[Szabolcs Horvath (Cabinet member)]</td>\n",
       "      <td>European Club Association</td>\n",
       "      <td>925747033224-18</td>\n",
       "      <td>Cabinet of Commissioner Tibor Navracsics</td>\n",
       "      <td>2019-12-11</td>\n",
       "      <td>Brussels</td>\n",
       "      <td>[Education, Culture, Youth and Sport]</td>\n",
       "      <td>new Commissioner and Cabinet</td>\n",
       "      <td>rep</td>\n",
       "      <td>NaN</td>\n",
       "      <td>NaN</td>\n",
       "      <td>NaN</td>\n",
       "    </tr>\n",
       "    <tr>\n",
       "      <th>1</th>\n",
       "      <td>Trade unions and professional associations</td>\n",
       "      <td>Promotes their own interests or the collective...</td>\n",
       "      <td>[Zaneta Vegnere (Cabinet member)]</td>\n",
       "      <td>spiritsEUROPE</td>\n",
       "      <td>64926487056-58</td>\n",
       "      <td>Cabinet of Executive Vice-President Valdis Dom...</td>\n",
       "      <td>2023-11-08</td>\n",
       "      <td>webex</td>\n",
       "      <td>[An Economy that Works for People]</td>\n",
       "      <td>EU-China Working Group on Spirits and follow u...</td>\n",
       "      <td>rep</td>\n",
       "      <td>NaN</td>\n",
       "      <td>NaN</td>\n",
       "      <td>NaN</td>\n",
       "    </tr>\n",
       "    <tr>\n",
       "      <th>2</th>\n",
       "      <td>Trade unions and professional associations</td>\n",
       "      <td>Promotes their own interests or the collective...</td>\n",
       "      <td>[Ylva Johansson (Commissioner), Asa Webber (Ca...</td>\n",
       "      <td>The Swedish Trade Union Confederation</td>\n",
       "      <td>673091017982-82</td>\n",
       "      <td>Cabinet of Commissioner Ylva Johansson</td>\n",
       "      <td>2023-11-08</td>\n",
       "      <td>Brussels, Belgium</td>\n",
       "      <td>[Home Affairs]</td>\n",
       "      <td>Climate\\r\\nLabour\\r\\nMigration</td>\n",
       "      <td>rep</td>\n",
       "      <td>NaN</td>\n",
       "      <td>NaN</td>\n",
       "      <td>NaN</td>\n",
       "    </tr>\n",
       "    <tr>\n",
       "      <th>3</th>\n",
       "      <td>Professional consultancies</td>\n",
       "      <td>Advances interests of their clients</td>\n",
       "      <td>[Juraj Nociar (Cabinet member)]</td>\n",
       "      <td>EPA Consulting, s.r.o.</td>\n",
       "      <td>210418516054-55</td>\n",
       "      <td>Cabinet of Vice-President Maro&amp;#353; &amp;#352;ef&amp;...</td>\n",
       "      <td>2023-11-08</td>\n",
       "      <td>Brussels</td>\n",
       "      <td>[Interinstitutional Relations and Foresight]</td>\n",
       "      <td>Electricity Supply.</td>\n",
       "      <td>rep</td>\n",
       "      <td>NaN</td>\n",
       "      <td>NaN</td>\n",
       "      <td>NaN</td>\n",
       "    </tr>\n",
       "    <tr>\n",
       "      <th>4</th>\n",
       "      <td>Companies &amp; groups</td>\n",
       "      <td>Promotes their own interests or the collective...</td>\n",
       "      <td>[Florian Denis (Cabinet member), Nathalie De B...</td>\n",
       "      <td>SIX GROUP LTD</td>\n",
       "      <td>259182121223-88</td>\n",
       "      <td>Cabinet of Commissioner Mairead Mcguinness</td>\n",
       "      <td>2023-11-08</td>\n",
       "      <td>Brussels</td>\n",
       "      <td>[Financial services, financial stability and C...</td>\n",
       "      <td>Capital Markets Union, MIFID, EMIR, Listing ac...</td>\n",
       "      <td>rep</td>\n",
       "      <td>NaN</td>\n",
       "      <td>NaN</td>\n",
       "      <td>NaN</td>\n",
       "    </tr>\n",
       "    <tr>\n",
       "      <th>...</th>\n",
       "      <td>...</td>\n",
       "      <td>...</td>\n",
       "      <td>...</td>\n",
       "      <td>...</td>\n",
       "      <td>...</td>\n",
       "      <td>...</td>\n",
       "      <td>...</td>\n",
       "      <td>...</td>\n",
       "      <td>...</td>\n",
       "      <td>...</td>\n",
       "      <td>...</td>\n",
       "      <td>...</td>\n",
       "      <td>...</td>\n",
       "      <td>...</td>\n",
       "    </tr>\n",
       "    <tr>\n",
       "      <th>21806</th>\n",
       "      <td>Companies &amp; groups</td>\n",
       "      <td>Promotes their own interests or the collective...</td>\n",
       "      <td>[Roberto Viola (Director-General)]</td>\n",
       "      <td>QUALCOMM Incorporated</td>\n",
       "      <td>00358442856-45</td>\n",
       "      <td>NaN</td>\n",
       "      <td>2019-12-02</td>\n",
       "      <td>Brussels</td>\n",
       "      <td>[]</td>\n",
       "      <td>Commission future agenda on 5G, AI and cloud</td>\n",
       "      <td>dg</td>\n",
       "      <td>NaN</td>\n",
       "      <td>CNECT</td>\n",
       "      <td>Communications Networks, Content and Technology</td>\n",
       "    </tr>\n",
       "    <tr>\n",
       "      <th>21807</th>\n",
       "      <td>Companies &amp; groups</td>\n",
       "      <td>Promotes their own interests or the collective...</td>\n",
       "      <td>[Roberto Viola (Director-General)]</td>\n",
       "      <td>Meta Platforms Ireland Limited and its various...</td>\n",
       "      <td>28666427835-74</td>\n",
       "      <td>NaN</td>\n",
       "      <td>2019-12-02</td>\n",
       "      <td>Brussels</td>\n",
       "      <td>[]</td>\n",
       "      <td>Platforms and DSA</td>\n",
       "      <td>dg</td>\n",
       "      <td>NaN</td>\n",
       "      <td>CNECT</td>\n",
       "      <td>Communications Networks, Content and Technology</td>\n",
       "    </tr>\n",
       "    <tr>\n",
       "      <th>21808</th>\n",
       "      <td>Think tanks and research institutions</td>\n",
       "      <td>Does not represent commercial interests</td>\n",
       "      <td>[Jean-Eric Paquet (Director-General)]</td>\n",
       "      <td>Institute for future-fit economies gemeinnützi...</td>\n",
       "      <td>630393933743-37</td>\n",
       "      <td>NaN</td>\n",
       "      <td>2019-12-02</td>\n",
       "      <td>Brussels</td>\n",
       "      <td>[Innovation and Youth]</td>\n",
       "      <td>COST Action</td>\n",
       "      <td>dg</td>\n",
       "      <td>NaN</td>\n",
       "      <td>RTD</td>\n",
       "      <td>Research and Innovation</td>\n",
       "    </tr>\n",
       "    <tr>\n",
       "      <th>21809</th>\n",
       "      <td>Companies &amp; groups</td>\n",
       "      <td>Promotes their own interests or the collective...</td>\n",
       "      <td>[Timo Pesonen (Acting Director-General)]</td>\n",
       "      <td>Teollisuuden Voima Oyj</td>\n",
       "      <td>352103717639-15</td>\n",
       "      <td>NaN</td>\n",
       "      <td>2019-12-02</td>\n",
       "      <td>BREY-Brussels</td>\n",
       "      <td>[Internal Market]</td>\n",
       "      <td>presenting their views on nuclear energy - lis...</td>\n",
       "      <td>dg</td>\n",
       "      <td>NaN</td>\n",
       "      <td>GROW</td>\n",
       "      <td>Internal Market, Industry, Entrepreneurship an...</td>\n",
       "    </tr>\n",
       "    <tr>\n",
       "      <th>21810</th>\n",
       "      <td>Trade and business associations</td>\n",
       "      <td>Promotes their own interests or the collective...</td>\n",
       "      <td>[Timo Pesonen (Acting Director-General)]</td>\n",
       "      <td>European Association Automotive Suppliers</td>\n",
       "      <td>91408765797-03</td>\n",
       "      <td>NaN</td>\n",
       "      <td>2019-12-02</td>\n",
       "      <td>BREY-Brussels</td>\n",
       "      <td>[Internal Market]</td>\n",
       "      <td>Courtesy meeting to introduce themselves and p...</td>\n",
       "      <td>dg</td>\n",
       "      <td>NaN</td>\n",
       "      <td>GROW</td>\n",
       "      <td>Internal Market, Industry, Entrepreneurship an...</td>\n",
       "    </tr>\n",
       "  </tbody>\n",
       "</table>\n",
       "<p>21811 rows × 14 columns</p>\n",
       "</div>"
      ],
      "text/plain": [
       "                                              Cat  \\\n",
       "0                 Trade and business associations   \n",
       "1      Trade unions and professional associations   \n",
       "2      Trade unions and professional associations   \n",
       "3                      Professional consultancies   \n",
       "4                              Companies & groups   \n",
       "...                                           ...   \n",
       "21806                          Companies & groups   \n",
       "21807                          Companies & groups   \n",
       "21808       Think tanks and research institutions   \n",
       "21809                          Companies & groups   \n",
       "21810             Trade and business associations   \n",
       "\n",
       "                                                    Cat2  \\\n",
       "0      Promotes their own interests or the collective...   \n",
       "1      Promotes their own interests or the collective...   \n",
       "2      Promotes their own interests or the collective...   \n",
       "3                    Advances interests of their clients   \n",
       "4      Promotes their own interests or the collective...   \n",
       "...                                                  ...   \n",
       "21806  Promotes their own interests or the collective...   \n",
       "21807  Promotes their own interests or the collective...   \n",
       "21808            Does not represent commercial interests   \n",
       "21809  Promotes their own interests or the collective...   \n",
       "21810  Promotes their own interests or the collective...   \n",
       "\n",
       "                                                    Host  \\\n",
       "0                    [Szabolcs Horvath (Cabinet member)]   \n",
       "1                      [Zaneta Vegnere (Cabinet member)]   \n",
       "2      [Ylva Johansson (Commissioner), Asa Webber (Ca...   \n",
       "3                        [Juraj Nociar (Cabinet member)]   \n",
       "4      [Florian Denis (Cabinet member), Nathalie De B...   \n",
       "...                                                  ...   \n",
       "21806                 [Roberto Viola (Director-General)]   \n",
       "21807                 [Roberto Viola (Director-General)]   \n",
       "21808              [Jean-Eric Paquet (Director-General)]   \n",
       "21809           [Timo Pesonen (Acting Director-General)]   \n",
       "21810           [Timo Pesonen (Acting Director-General)]   \n",
       "\n",
       "                                                     Org            OrgId  \\\n",
       "0                              European Club Association  925747033224-18   \n",
       "1                                          spiritsEUROPE   64926487056-58   \n",
       "2                  The Swedish Trade Union Confederation  673091017982-82   \n",
       "3                                 EPA Consulting, s.r.o.  210418516054-55   \n",
       "4                                          SIX GROUP LTD  259182121223-88   \n",
       "...                                                  ...              ...   \n",
       "21806                              QUALCOMM Incorporated   00358442856-45   \n",
       "21807  Meta Platforms Ireland Limited and its various...   28666427835-74   \n",
       "21808  Institute for future-fit economies gemeinnützi...  630393933743-37   \n",
       "21809                             Teollisuuden Voima Oyj  352103717639-15   \n",
       "21810          European Association Automotive Suppliers   91408765797-03   \n",
       "\n",
       "                                                 cabinet       date  \\\n",
       "0               Cabinet of Commissioner Tibor Navracsics 2019-12-11   \n",
       "1      Cabinet of Executive Vice-President Valdis Dom... 2023-11-08   \n",
       "2                 Cabinet of Commissioner Ylva Johansson 2023-11-08   \n",
       "3      Cabinet of Vice-President Maro&#353; &#352;ef&... 2023-11-08   \n",
       "4             Cabinet of Commissioner Mairead Mcguinness 2023-11-08   \n",
       "...                                                  ...        ...   \n",
       "21806                                                NaN 2019-12-02   \n",
       "21807                                                NaN 2019-12-02   \n",
       "21808                                                NaN 2019-12-02   \n",
       "21809                                                NaN 2019-12-02   \n",
       "21810                                                NaN 2019-12-02   \n",
       "\n",
       "                location                                          portfolio  \\\n",
       "0               Brussels              [Education, Culture, Youth and Sport]   \n",
       "1                  webex                 [An Economy that Works for People]   \n",
       "2      Brussels, Belgium                                     [Home Affairs]   \n",
       "3               Brussels       [Interinstitutional Relations and Foresight]   \n",
       "4               Brussels  [Financial services, financial stability and C...   \n",
       "...                  ...                                                ...   \n",
       "21806           Brussels                                                 []   \n",
       "21807           Brussels                                                 []   \n",
       "21808           Brussels                             [Innovation and Youth]   \n",
       "21809      BREY-Brussels                                  [Internal Market]   \n",
       "21810      BREY-Brussels                                  [Internal Market]   \n",
       "\n",
       "                                                 subject type entities  \\\n",
       "0                           new Commissioner and Cabinet  rep      NaN   \n",
       "1      EU-China Working Group on Spirits and follow u...  rep      NaN   \n",
       "2                         Climate\\r\\nLabour\\r\\nMigration  rep      NaN   \n",
       "3                                    Electricity Supply.  rep      NaN   \n",
       "4      Capital Markets Union, MIFID, EMIR, Listing ac...  rep      NaN   \n",
       "...                                                  ...  ...      ...   \n",
       "21806       Commission future agenda on 5G, AI and cloud   dg      NaN   \n",
       "21807                                  Platforms and DSA   dg      NaN   \n",
       "21808                                        COST Action   dg      NaN   \n",
       "21809  presenting their views on nuclear energy - lis...   dg      NaN   \n",
       "21810  Courtesy meeting to introduce themselves and p...   dg      NaN   \n",
       "\n",
       "      dgacronym                                             dgname  \n",
       "0           NaN                                                NaN  \n",
       "1           NaN                                                NaN  \n",
       "2           NaN                                                NaN  \n",
       "3           NaN                                                NaN  \n",
       "4           NaN                                                NaN  \n",
       "...         ...                                                ...  \n",
       "21806     CNECT    Communications Networks, Content and Technology  \n",
       "21807     CNECT    Communications Networks, Content and Technology  \n",
       "21808       RTD                            Research and Innovation  \n",
       "21809      GROW  Internal Market, Industry, Entrepreneurship an...  \n",
       "21810      GROW  Internal Market, Industry, Entrepreneurship an...  \n",
       "\n",
       "[21811 rows x 14 columns]"
      ]
     },
     "execution_count": 41,
     "metadata": {},
     "output_type": "execute_result"
    }
   ],
   "source": [
    "json_url = \"https://integritywatch.eu/data/ecmeetings/ecmeetings.json\"\n",
    "df2 = pd.read_json(json_url)\n",
    "df2"
   ]
  },
  {
   "cell_type": "markdown",
   "id": "8317a981-c2b5-4777-883b-f85dce7cb2bb",
   "metadata": {},
   "source": [
    "## HTML/CSS"
   ]
  },
  {
   "cell_type": "markdown",
   "id": "5d3c334d-8fc1-43bb-91e7-8cc696b323bf",
   "metadata": {},
   "source": [
    "Another important part of the Inspector is the `Inspector` tab\n",
    "\n",
    "![img](img/inspector_inspector.png)\n",
    "\n",
    "Here we find `HTML/CSS` source of the website\n",
    "\n",
    "### HTML\n",
    "![html](img/anatomy-of-an-html-element.jpg)\n",
    "\n",
    "### CSS\n",
    "![html](img/html-element.png)\n",
    "\n",
    "We use these elements to navigate to the part of the webstie we want to scrape"
   ]
  },
  {
   "cell_type": "markdown",
   "id": "6afb9bf1-f06a-4f8b-8535-603c683b4b76",
   "metadata": {},
   "source": [
    "## Excercise 3: PDF"
   ]
  },
  {
   "cell_type": "markdown",
   "id": "6dd658c3-7780-497c-b5cc-0f95d7d58f99",
   "metadata": {},
   "source": [
    "Go to the [Commission expert groups website](https://ec.europa.eu/transparency/expert-groups-register/screen/expert-groups?lang=en)\n",
    "\n",
    "* Open an expert group meeting\n",
    "* Find the URL of the meeting minutes and any other documents you can find\n",
    "* Use `requests` and to save them on your computer"
   ]
  },
  {
   "cell_type": "code",
   "execution_count": 42,
   "id": "e87e92d6-c542-49c7-864c-139b1046064e",
   "metadata": {},
   "outputs": [],
   "source": [
    "pdf_url = \"https://ec.europa.eu/transparency/expert-groups-register/core/api/front/expertGroupAddtitionalInfo/32821/download\""
   ]
  },
  {
   "cell_type": "code",
   "execution_count": 43,
   "id": "258ff87e-6410-4d51-ad13-7d1df80986bf",
   "metadata": {},
   "outputs": [],
   "source": [
    "r = requests.get(pdf_url)"
   ]
  },
  {
   "cell_type": "code",
   "execution_count": 44,
   "id": "9b09bae7-e1d3-4d7b-a741-302c2217ba08",
   "metadata": {},
   "outputs": [
    {
     "data": {
      "text/plain": [
       "<Response [200]>"
      ]
     },
     "execution_count": 44,
     "metadata": {},
     "output_type": "execute_result"
    }
   ],
   "source": [
    "r"
   ]
  },
  {
   "cell_type": "code",
   "execution_count": 52,
   "id": "c69d8f8d-cbaf-4c73-8509-6db94b670890",
   "metadata": {},
   "outputs": [],
   "source": [
    "with open(\"myfile.pdf\", \"wb\") as outfile:\n",
    "    outfile.write(r.content)"
   ]
  },
  {
   "cell_type": "code",
   "execution_count": 51,
   "id": "061dded7-5325-4333-90e9-bfec026c0581",
   "metadata": {},
   "outputs": [],
   "source": [
    "with open(\"myfile.txt\", \"w\") as outfile:\n",
    "    outfile.write(\"Haai!\")"
   ]
  },
  {
   "cell_type": "markdown",
   "id": "efa28b52-4b0e-4c5b-b934-3ce3de855d27",
   "metadata": {},
   "source": [
    "## Excercise 4: get multiple PDFs"
   ]
  },
  {
   "cell_type": "markdown",
   "id": "7ed1d24e-c3ed-4c10-9366-599a28bd6597",
   "metadata": {},
   "source": [
    "* Go to the [Recovery Expert Group (for mutual tax recovery assistance) (E03234) ](https://ec.europa.eu/transparency/expert-groups-register/screen/expert-groups/consult?lang=en&groupID=3234)\n",
    "* get all the Agenda PDFs"
   ]
  },
  {
   "cell_type": "code",
   "execution_count": 53,
   "id": "079a2146-37a4-4f26-b24e-582c40bbe37d",
   "metadata": {},
   "outputs": [],
   "source": [
    "# import the BeautifulSoup library\n",
    "from bs4 import BeautifulSoup as bs"
   ]
  },
  {
   "cell_type": "code",
   "execution_count": null,
   "id": "53b1650e-7cae-433b-aa84-adcc9b76030e",
   "metadata": {},
   "outputs": [],
   "source": [
    "url = \"https://ec.europa.eu/transparency/expert-groups-register/screen/expert-groups/consult?lang=en&groupID=3234\"\n",
    "r = requests.get(url)\n",
    "soup = bs(r.text)\n",
    "soup.select(\"a\")"
   ]
  },
  {
   "cell_type": "raw",
   "id": "565507a1-dd95-435d-8083-f197960f9f18",
   "metadata": {},
   "source": [
    "The above code does not return"
   ]
  },
  {
   "cell_type": "code",
   "execution_count": 70,
   "id": "dae3edfa-de79-4262-ac27-2816a556f2a7",
   "metadata": {},
   "outputs": [],
   "source": [
    "import json"
   ]
  },
  {
   "cell_type": "code",
   "execution_count": 95,
   "id": "1e2e7e0f-c7fb-4e37-8a71-3ffbf588c283",
   "metadata": {},
   "outputs": [
    {
     "name": "stdout",
     "output_type": "stream",
     "text": [
      "Agenda - 2017 06 16.pdf\n",
      "Agenda - 2017 02 22.pdf\n",
      "Summary report - 2016 09 23.pdf\n",
      "Agenda - 2016 04 15.pdf\n",
      "Agenda - 2015 10 13.pdf\n",
      "Summary report - 2015 02 27.pdf\n",
      "Agenda.pdf\n"
     ]
    }
   ],
   "source": [
    "additional_info_json = \"https://ec.europa.eu/transparency/expert-groups-register/core/api/front/expertGroups/3234/additionalInformation\"\n",
    "r = requests.get(additional_info_json)\n",
    "\n",
    "for item in json.loads(r.text)[\"activityReports\"]:\n",
    "    pdf_url = \"https://ec.europa.eu\" + item[\"documents\"][0][\"urlDownload\"]\n",
    "\n",
    "    title = item[\"documents\"][0]['title']\n",
    "    r_pdf = requests.get(pdf_url)\n",
    "\n",
    "    print(title)\n",
    "\n",
    "    with open(\"pdfs/\" + title, \"wb\") as outfile:\n",
    "        outfile.write(r_pdf.content)"
   ]
  },
  {
   "cell_type": "code",
   "execution_count": null,
   "id": "f30fcee3-ac24-4357-9103-e41e76e2a2ca",
   "metadata": {},
   "outputs": [],
   "source": []
  }
 ],
 "metadata": {
  "kernelspec": {
   "display_name": "Python 3 (ipykernel)",
   "language": "python",
   "name": "python3"
  },
  "language_info": {
   "codemirror_mode": {
    "name": "ipython",
    "version": 3
   },
   "file_extension": ".py",
   "mimetype": "text/x-python",
   "name": "python",
   "nbconvert_exporter": "python",
   "pygments_lexer": "ipython3",
   "version": "3.12.0"
  }
 },
 "nbformat": 4,
 "nbformat_minor": 5
}
