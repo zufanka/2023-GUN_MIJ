{
 "cells": [
  {
   "cell_type": "markdown",
   "id": "49e0970e-c92f-45d0-a341-501ff28bdd5a",
   "metadata": {},
   "source": [
    "# Scraping a single page"
   ]
  },
  {
   "cell_type": "markdown",
   "id": "62624faa-e1a9-4505-9b0e-ae1952838a74",
   "metadata": {},
   "source": [
    "For this scraping excercise we'll use 3 libraries : `requests` and `Beautiful Soup` and `pandas`.\n",
    "- `requests` : opens a website\n",
    "- `BeautifulSoup` : parses the HTML\n",
    "- `pandas` : for data analysis and transformation.\n",
    "Let's import them."
   ]
  },
  {
   "cell_type": "code",
   "execution_count": 4,
   "id": "688cb833-f686-4cf5-bbc6-a4d0af1aa0fe",
   "metadata": {},
   "outputs": [],
   "source": [
    "import pandas as pd\n",
    "import requests\n",
    "from bs4 import BeautifulSoup as bs"
   ]
  },
  {
   "cell_type": "markdown",
   "id": "6c6866cb-38df-44e7-98da-c4ecf21a5af1",
   "metadata": {},
   "source": [
    "- Go to the [Regulation No 31: laying down the Staff Regulations of Officials and the Conditions of Employment of Other Servants](https://eur-lex.europa.eu/legal-content/EN/TXT/?uri=CELEX%3A01962R0031-20230101).\n",
    "- Find the table that contains the *Daily allowance* and *Hotel costs* for visiting various countries in Europe.\n",
    "- Let's open the website in our script using `requests` and pass it to `BeautifulSoup`, like this:\n",
    "\n",
    "```python\n",
    "r = requests.get(url)\n",
    "soup = bs(r.text)\n",
    "```"
   ]
  },
  {
   "cell_type": "code",
   "execution_count": 5,
   "id": "8b95e602-e4b5-4345-a0b1-7825d5d336cb",
   "metadata": {},
   "outputs": [],
   "source": [
    "url = \"https://eur-lex.europa.eu/legal-content/EN/TXT/?uri=CELEX%3A01962R0031-20230101\"\n",
    "r = requests.get(url)\n",
    "soup = bs(r.text)"
   ]
  },
  {
   "cell_type": "code",
   "execution_count": 15,
   "id": "f6cb250f-fcc7-4f89-a22c-b525e8243572",
   "metadata": {},
   "outputs": [],
   "source": [
    "table = soup.find(string=\"Hotel ceiling\").parent.parent.parent.parent"
   ]
  },
  {
   "cell_type": "code",
   "execution_count": 46,
   "id": "2ca64e89-f63f-4ad3-ae58-9278f65cb10f",
   "metadata": {},
   "outputs": [],
   "source": [
    "table_data = []\n",
    "\n",
    "for row in table.find_all(\"tr\")[1:]:\n",
    "\n",
    "    elements = row.find_all('td')\n",
    "    data = {}\n",
    "\n",
    "    data[\"Destination\"] = elements[0].text.strip()\n",
    "    data[\"Hotel ceiling\"] = elements[1].text.strip()\n",
    "    data[\"Daily allowance\"] = elements[2].text.strip()\n",
    "\n",
    "    table_data.append(data)\n",
    "\n",
    "    #print(data)\n",
    "    "
   ]
  },
  {
   "cell_type": "code",
   "execution_count": 50,
   "id": "d7d37523-0359-4a5c-a04e-f2ead3de3664",
   "metadata": {},
   "outputs": [
    {
     "data": {
      "text/html": [
       "<div>\n",
       "<style scoped>\n",
       "    .dataframe tbody tr th:only-of-type {\n",
       "        vertical-align: middle;\n",
       "    }\n",
       "\n",
       "    .dataframe tbody tr th {\n",
       "        vertical-align: top;\n",
       "    }\n",
       "\n",
       "    .dataframe thead th {\n",
       "        text-align: right;\n",
       "    }\n",
       "</style>\n",
       "<table border=\"1\" class=\"dataframe\">\n",
       "  <thead>\n",
       "    <tr style=\"text-align: right;\">\n",
       "      <th></th>\n",
       "      <th>Destination</th>\n",
       "      <th>Hotel ceiling</th>\n",
       "      <th>Daily allowance</th>\n",
       "    </tr>\n",
       "  </thead>\n",
       "  <tbody>\n",
       "    <tr>\n",
       "      <th>0</th>\n",
       "      <td>Belgium</td>\n",
       "      <td>148</td>\n",
       "      <td>102</td>\n",
       "    </tr>\n",
       "  </tbody>\n",
       "</table>\n",
       "</div>"
      ],
      "text/plain": [
       "  Destination Hotel ceiling Daily allowance\n",
       "0     Belgium           148             102"
      ]
     },
     "execution_count": 50,
     "metadata": {},
     "output_type": "execute_result"
    }
   ],
   "source": [
    "pd.DataFrame(table_data).head(1)"
   ]
  },
  {
   "cell_type": "code",
   "execution_count": 52,
   "id": "68e58d93-5e9b-4aa3-ab7e-be36dc6f3db8",
   "metadata": {},
   "outputs": [],
   "source": [
    "pd.DataFrame(table_data).to_csv(\"table_data.csv\")"
   ]
  },
  {
   "cell_type": "code",
   "execution_count": null,
   "id": "655fc4b8-4596-4a74-81fe-e5fb2aeb0b1b",
   "metadata": {},
   "outputs": [],
   "source": []
  }
 ],
 "metadata": {
  "kernelspec": {
   "display_name": "Python 3 (ipykernel)",
   "language": "python",
   "name": "python3"
  },
  "language_info": {
   "codemirror_mode": {
    "name": "ipython",
    "version": 3
   },
   "file_extension": ".py",
   "mimetype": "text/x-python",
   "name": "python",
   "nbconvert_exporter": "python",
   "pygments_lexer": "ipython3",
   "version": "3.12.0"
  }
 },
 "nbformat": 4,
 "nbformat_minor": 5
}
