{
 "cells": [
  {
   "cell_type": "markdown",
   "metadata": {},
   "source": [
    "# Excercises"
   ]
  },
  {
   "cell_type": "markdown",
   "metadata": {},
   "source": [
    "## Strings"
   ]
  },
  {
   "cell_type": "code",
   "execution_count": 2,
   "metadata": {},
   "outputs": [],
   "source": [
    "sentence = \"      Far out in the uncharted backwaters of the unfashionable end of the Western spiral arm of the galaxy lies a small unregarded yellow sun.           \""
   ]
  },
  {
   "cell_type": "code",
   "execution_count": null,
   "metadata": {},
   "outputs": [],
   "source": [
    "# Remove the whitespaces in the beginning and at the end of sentence\n"
   ]
  },
  {
   "cell_type": "code",
   "execution_count": null,
   "metadata": {},
   "outputs": [],
   "source": [
    "# Print the lenght of sentence\n"
   ]
  },
  {
   "cell_type": "code",
   "execution_count": null,
   "metadata": {},
   "outputs": [],
   "source": [
    "# replace all the 'a' with 'o' in sentence\n"
   ]
  },
  {
   "cell_type": "code",
   "execution_count": null,
   "metadata": {},
   "outputs": [],
   "source": [
    "# 1. Make a list of words out of sentence\n",
    "# 2. print out the words under each other in upper case\n"
   ]
  },
  {
   "cell_type": "markdown",
   "metadata": {},
   "source": [
    "## Lists"
   ]
  },
  {
   "cell_type": "code",
   "execution_count": null,
   "metadata": {},
   "outputs": [],
   "source": [
    "oxford_word_oftheyear = [\"VAX\", \"CLIMATE EMERGENCY\", \"TOXIC\", \"YOUTHQUAKE\", \"POST-TRUTH\" ,\"😂\", \"vape\", \"selfie\"]"
   ]
  },
  {
   "cell_type": "code",
   "execution_count": null,
   "metadata": {},
   "outputs": [],
   "source": [
    "# Print only \"TOXIC\", \"YOUTHQUAKE\" and \"POST-TRUTH\" from oxford_word_oftheyear\n"
   ]
  },
  {
   "cell_type": "code",
   "execution_count": null,
   "metadata": {},
   "outputs": [],
   "source": [
    "# Print only the last 3 elements of oxford_word_oftheyear"
   ]
  },
  {
   "cell_type": "markdown",
   "metadata": {},
   "source": [
    "## Loops and conditionals"
   ]
  },
  {
   "cell_type": "code",
   "execution_count": 39,
   "metadata": {},
   "outputs": [],
   "source": [
    "# Create a list of numbers from 0 to 200 (use a loop)\n"
   ]
  },
  {
   "cell_type": "code",
   "execution_count": null,
   "metadata": {},
   "outputs": [],
   "source": [
    "# Create a list of 10 random numbers between 0 and 50 (use a loop)\n"
   ]
  },
  {
   "cell_type": "code",
   "execution_count": null,
   "metadata": {},
   "outputs": [],
   "source": [
    "# With another loop, sum of all numbers in this list\n"
   ]
  },
  {
   "cell_type": "code",
   "execution_count": null,
   "metadata": {},
   "outputs": [],
   "source": [
    "# Go through a list of random numbers and print out whether the number is smaller or larger than 20\n"
   ]
  },
  {
   "cell_type": "code",
   "execution_count": 9,
   "metadata": {},
   "outputs": [
    {
     "name": "stdout",
     "output_type": "stream",
     "text": [
      "printing 366\n",
      "printing 96\n",
      "printing 240\n",
      "printing 250\n",
      "printing 192\n",
      "printing 370\n",
      "467 larger than 400\n"
     ]
    }
   ],
   "source": [
    "# Generate a list of 30 random numbers from 0 to 500.\n",
    "# Write a program to store in a list only those numbers from this list that satisfy the following conditions:\n",
    "# Number is divisible by 2\n",
    "# If the number is smaller than 10, skip it and move on to the next number\n",
    "# If the number is greater than 400, then stop the loop.\n",
    "\n",
    "import random\n",
    "\n",
    "listnumbers2 = []\n",
    "\n",
    "for x in range(0,30):\n",
    "    n = random.randint(0,500)\n",
    "\n",
    "    listnumbers2.append(n)\n",
    "\n",
    "for item in listnumbers2:\n",
    "    if item > 400:\n",
    "        print(str(item) + \" larger than 400\")\n",
    "        break\n",
    "    elif item < 10:\n",
    "        print(str(item) + \" smaller than 10\")\n",
    "        continue\n",
    "    elif item % 2 == 0:\n",
    "        print(\"printing \" + str(item))"
   ]
  },
  {
   "cell_type": "code",
   "execution_count": null,
   "metadata": {},
   "outputs": [],
   "source": []
  }
 ],
 "metadata": {
  "kernelspec": {
   "display_name": "Python 3 (ipykernel)",
   "language": "python",
   "name": "python3"
  },
  "language_info": {
   "codemirror_mode": {
    "name": "ipython",
    "version": 3
   },
   "file_extension": ".py",
   "mimetype": "text/x-python",
   "name": "python",
   "nbconvert_exporter": "python",
   "pygments_lexer": "ipython3",
   "version": "3.12.0"
  }
 },
 "nbformat": 4,
 "nbformat_minor": 4
}
