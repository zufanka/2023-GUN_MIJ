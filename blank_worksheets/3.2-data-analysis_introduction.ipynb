{
 "cells": [
  {
   "cell_type": "code",
   "execution_count": 6,
   "id": "4a74b3c3-1248-427b-a3b2-dfc672585e0d",
   "metadata": {},
   "outputs": [],
   "source": [
    "import pandas\n",
    "import requests\n",
    "from bs4 import BeautifulSoup as bs"
   ]
  },
  {
   "cell_type": "markdown",
   "id": "4c5ff1da-de16-4f60-9729-303c8837af95",
   "metadata": {},
   "source": [
    "Import the data we have scraped in the previous excercise. We will explore and clean the data and combine them with the [inflation index from Eurostat](https://ec.europa.eu/eurostat/databrowser/bookmark/f6a583fa-f744-4590-aa95-173aaa6ea3f1?lang=en) (grab the [direct link to the csv](https://ec.europa.eu/eurostat/api/dissemination/sdmx/3.0/data/dataflow/ESTAT/prc_hicp_midx/1.0/M.I05.CP11.*?c[geo]=BE,BG,CZ,DK,DE,EE,IE,EL,ES,FR,HR,IT,CY,LV,LT,LU,HU,MT,NL,AT,PL,PT,RO,SI,SK,FI,SE,IS,NO,CH,UK,ME,MK&compress=false&format=csvdata&formatVersion=2.0&c[TIME_PERIOD]=ge:2004-01+le:2023-10&lang=en&labels=name))"
   ]
  },
  {
   "cell_type": "markdown",
   "id": "d8ff2561-af84-4c10-b46e-afc797acb10f",
   "metadata": {},
   "source": [
    "The first step for a data analysis is to have a close look at the data:\n",
    "- What columns are there?\n",
    "- How many rows?\n",
    "- What is in the columns?\n",
    "\n",
    "Pandas has helpful methods to do this.\n",
    "\n",
    "```python\n",
    "df.info() # information on the column names and non-zero values\n",
    "df.sample(3) # returns 3 sample rows from the data\n",
    "df.head(3) # returns the first 3 rows of the data\n",
    "len(df) # returns the number of rows\n",
    "df.columns # all the column names as a list\n",
    "```"
   ]
  },
  {
   "cell_type": "code",
   "execution_count": null,
   "id": "6560cbe8-f71c-467f-91a2-9fc9418d0663",
   "metadata": {},
   "outputs": [],
   "source": []
  },
  {
   "cell_type": "code",
   "execution_count": null,
   "id": "d95bfb57-44a3-429b-ba44-47ea93c0624c",
   "metadata": {},
   "outputs": [],
   "source": []
  },
  {
   "cell_type": "code",
   "execution_count": null,
   "id": "3f430d72-9ffa-4955-b99f-727f57278c2c",
   "metadata": {},
   "outputs": [],
   "source": []
  },
  {
   "cell_type": "markdown",
   "id": "54482ddb-4d10-46c8-802e-c508fe2c6e79",
   "metadata": {},
   "source": [
    "We can also isolate columns using this syntax and look more closely at those\n",
    "\n",
    "```python\n",
    "df[\"column\"]\n",
    "```\n",
    "\n",
    "This will return a `Series` from a `DataFrame`. It's important to know what data type you are working with, as all of them have their own methods.\n",
    "\n",
    "\n",
    "```python\n",
    "# for categorical variables\n",
    "df[\"column\"].unique() # all the unique values of the column\n",
    "df[\"column\"].value_counts() # how often does a value occur\n",
    "\n",
    "# for numeric variables\n",
    "df.hist(column='column') # makes a histogram\n",
    "df.describe() # descriptive statistics for all numeric variables\n",
    "df[\"column\"].describe() # descriptive statistics for a single column\n",
    "```\n",
    "\n",
    "Explore the dataset"
   ]
  },
  {
   "cell_type": "code",
   "execution_count": null,
   "id": "657b6a8f-5853-4344-98df-1fdddbe9905a",
   "metadata": {},
   "outputs": [],
   "source": []
  },
  {
   "cell_type": "code",
   "execution_count": null,
   "id": "87649586-85da-46ac-86ca-1382f007c461",
   "metadata": {},
   "outputs": [],
   "source": []
  }
 ],
 "metadata": {
  "kernelspec": {
   "display_name": "Python 3 (ipykernel)",
   "language": "python",
   "name": "python3"
  },
  "language_info": {
   "codemirror_mode": {
    "name": "ipython",
    "version": 3
   },
   "file_extension": ".py",
   "mimetype": "text/x-python",
   "name": "python",
   "nbconvert_exporter": "python",
   "pygments_lexer": "ipython3",
   "version": "3.12.0"
  }
 },
 "nbformat": 4,
 "nbformat_minor": 5
}
