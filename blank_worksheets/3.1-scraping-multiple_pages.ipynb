{
 "cells": [
  {
   "cell_type": "markdown",
   "id": "49e0970e-c92f-45d0-a341-501ff28bdd5a",
   "metadata": {},
   "source": [
    "# Scraping multiple pages"
   ]
  },
  {
   "cell_type": "markdown",
   "id": "62624faa-e1a9-4505-9b0e-ae1952838a74",
   "metadata": {},
   "source": [
    "For this scraping excercise we'll use 3 libraries : `requests` and `Beautiful Soup` and `pandas`.\n",
    "- `requests` : opens a website\n",
    "- `BeautifulSoup` : parses the HTML\n",
    "- `pandas` : for data analysis and transformation.\n",
    "Let's import them."
   ]
  },
  {
   "cell_type": "markdown",
   "id": "7f82352c-bdef-4e4a-9531-891867090234",
   "metadata": {},
   "source": [
    "- Go to the [Regulation No 31: laying down the Staff Regulations of Officials and the Conditions of Employment of Other Servants](https://eur-lex.europa.eu/legal-content/EN/TXT/?uri=CELEX%3A01962R0031-20230101).\n",
    "- Look at the left-hand side side panel - it contains the older versions of this regulation. All of these contain this table. Let's collect all this data into one table.\n",
    "\n",
    "## How:\n",
    "- grab the links for the older regulations from the left-hand side panel\n",
    "- write a `for` loop that loops over a range changing the URL for the regulations of previous years\n",
    "- Reuse the script we wrote in the previous class to scrape all the pages. Put it into a function.\n",
    "- Add a `year` column to the data so you know what year the allowances come from\n",
    "- using [`pd.concat()`](https://pandas.pydata.org/pandas-docs/stable/reference/api/pandas.concat.html) add all the tables into one\n",
    " "
   ]
  },
  {
   "cell_type": "markdown",
   "id": "623d8934-2d9c-478d-8b6f-a70921c1dd8e",
   "metadata": {},
   "source": [
    "### There are multiple ways to find elements in a page\n",
    "\n",
    "```python\n",
    "soup.find('table') # returns the first occurence of the element `table` on the page\n",
    "soup.find(string='text') # searches for text and returns the text !Does not return partial matches!\n",
    "soup.find_all('div') # returns a list with all occurences of the element `div`\n",
    "```\n",
    "\n",
    "### You can also use CSS selectors\n",
    "`soup.select()` always returns a list with all the occurences of the search, even if it's just a single element\n",
    "\n",
    "```python\n",
    "soup.select('a') #  all elements 'a'\n",
    "soup.select('.classname') #  all elements with class name `.classname`\n",
    "```\n",
    "\n",
    "You will most ofthen combine them.\n",
    "\n",
    "![html](img/css_selectors.png)"
   ]
  },
  {
   "cell_type": "code",
   "execution_count": 3,
   "id": "688cb833-f686-4cf5-bbc6-a4d0af1aa0fe",
   "metadata": {},
   "outputs": [],
   "source": [
    "import pandas as pd\n",
    "import requests\n",
    "from bs4 import BeautifulSoup as bs"
   ]
  },
  {
   "cell_type": "markdown",
   "id": "e7622385-c842-4d05-825c-dfdd6f7fd75d",
   "metadata": {},
   "source": [
    "## CSS selectors"
   ]
  },
  {
   "cell_type": "code",
   "execution_count": null,
   "id": "a46e6ed8-2622-4854-afb2-8c4a9888eb19",
   "metadata": {},
   "outputs": [],
   "source": []
  }
 ],
 "metadata": {
  "kernelspec": {
   "display_name": "Python 3 (ipykernel)",
   "language": "python",
   "name": "python3"
  },
  "language_info": {
   "codemirror_mode": {
    "name": "ipython",
    "version": 3
   },
   "file_extension": ".py",
   "mimetype": "text/x-python",
   "name": "python",
   "nbconvert_exporter": "python",
   "pygments_lexer": "ipython3",
   "version": "3.12.0"
  }
 },
 "nbformat": 4,
 "nbformat_minor": 5
}
