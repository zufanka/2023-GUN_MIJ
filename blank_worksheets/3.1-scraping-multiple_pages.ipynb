{
 "cells": [
  {
   "cell_type": "markdown",
   "id": "49e0970e-c92f-45d0-a341-501ff28bdd5a",
   "metadata": {},
   "source": [
    "# Scraping multiple pages"
   ]
  },
  {
   "cell_type": "markdown",
   "id": "62624faa-e1a9-4505-9b0e-ae1952838a74",
   "metadata": {},
   "source": [
    "For this scraping excercise we'll use 3 libraries : `requests` and `Beautiful Soup` and `pandas`.\n",
    "- `requests` : opens a website\n",
    "- `BeautifulSoup` : parses the HTML\n",
    "- `pandas` : for data analysis and transformation.\n",
    "Let's import them."
   ]
  },
  {
   "cell_type": "markdown",
   "id": "7f82352c-bdef-4e4a-9531-891867090234",
   "metadata": {},
   "source": [
    "- Go to the [Regulation No 31: laying down the Staff Regulations of Officials and the Conditions of Employment of Other Servants](https://eur-lex.europa.eu/legal-content/EN/TXT/?uri=CELEX%3A01962R0031-20230101).\n",
    "- Look at the left-hand side side panel - it contains the older versions of this regulation. All of these contain this table. Let's collect all this data into one table.\n",
    "\n",
    "## How:\n",
    "- grab the links for the older regulations from the left-hand side panel\n",
    "- write a `for` loop that loops over a range changing the URL for the regulations of previous years\n",
    "- Reuse the script we wrote in the previous class to scrape all the pages. Put it into a function.\n",
    "- Add a `year` column to the data so you know what year the allowances come from\n",
    "\n",
    " "
   ]
  },
  {
   "cell_type": "markdown",
   "id": "623d8934-2d9c-478d-8b6f-a70921c1dd8e",
   "metadata": {},
   "source": [
    "### There are multiple ways to find elements in a page\n",
    "\n",
    "```python\n",
    "soup.find('table') # returns the first occurence of the element `table` on the page\n",
    "soup.find(string='text') # searches for text and returns the text !Does not return partial matches!\n",
    "soup.find_all('div') # returns a list with all occurences of the element `div`\n",
    "```\n",
    "\n",
    "### You can also use CSS selectors\n",
    "`soup.select()` always returns a list with all the occurences of the search, even if it's just a single element\n",
    "\n",
    "```python\n",
    "soup.select('a') #  all elements 'a'\n",
    "soup.select('.classname') #  all elements with class name `.classname`\n",
    "soup.select(\".consLegNav a\")\n",
    "```\n",
    "\n",
    "```\n",
    "soup.a.get()\n",
    "```\n",
    "You will most ofthen combine them.\n",
    "\n",
    "![html](img/css_selectors.png)"
   ]
  },
  {
   "cell_type": "code",
   "execution_count": 1,
   "id": "688cb833-f686-4cf5-bbc6-a4d0af1aa0fe",
   "metadata": {},
   "outputs": [],
   "source": [
    "import pandas as pd\n",
    "import requests\n",
    "from bs4 import BeautifulSoup as bs"
   ]
  },
  {
   "cell_type": "code",
   "execution_count": 3,
   "id": "a46e6ed8-2622-4854-afb2-8c4a9888eb19",
   "metadata": {},
   "outputs": [],
   "source": [
    "url = \"https://eur-lex.europa.eu/legal-content/EN/TXT/?uri=CELEX%3A01962R0031-20100101\"\n",
    "r = requests.get(url)\n",
    "soup = bs(r.text)"
   ]
  },
  {
   "cell_type": "code",
   "execution_count": 12,
   "id": "6c347931-e694-44c1-8d46-73756ac594a9",
   "metadata": {},
   "outputs": [
    {
     "data": {
      "text/plain": [
       "1"
      ]
     },
     "execution_count": 12,
     "metadata": {},
     "output_type": "execute_result"
    }
   ],
   "source": [
    "len(soup.select(\".consLegNav\"))"
   ]
  },
  {
   "cell_type": "code",
   "execution_count": 18,
   "id": "859b0d22-b06d-4990-8603-1526f59b8dd3",
   "metadata": {},
   "outputs": [
    {
     "data": {
      "text/plain": [
       "'hello'"
      ]
     },
     "execution_count": 18,
     "metadata": {},
     "output_type": "execute_result"
    }
   ],
   "source": [
    "[\"hello\"][0]"
   ]
  },
  {
   "cell_type": "code",
   "execution_count": 33,
   "id": "6e274110-611d-4140-84c7-b072ee2486fe",
   "metadata": {},
   "outputs": [
    {
     "name": "stdout",
     "output_type": "stream",
     "text": [
      "1.<a class=\"\" data-celex=\"01962R0031-20230101\" href=\"./../../../legal-content/EN/AUTO/?uri=CELEX:01962R0031-20230101\" title=\"\" xmlns=\"http://www.w3.org/1999/xhtml\">01/01/2023</a>\n",
      "2../../../../legal-content/EN/AUTO/?uri=CELEX:01962R0031-20230101\n",
      "3.['./../../../legal', 'content/EN/AUTO/?uri=CELEX:01962R0031', '20230101']\n",
      "4.20230101\n"
     ]
    }
   ],
   "source": [
    "# create an empty list containing the data\n",
    "dates_list = []\n",
    "\n",
    "for a in soup.select(\".consLegNav a\"):\n",
    "    # this is the same > soup.select(\".consLegNav\")[0].find_all('a')\n",
    "    \n",
    "    # this is the whole tag\n",
    "    print(\"1.\" + str(a))\n",
    "    \n",
    "    # extract just the 'href' from the tag\n",
    "    link = a.get(\"href\")\n",
    "    print(\"2.\" +link)\n",
    "\n",
    "    # split the string into a list on dash https://www.w3schools.com/python/ref_string_split.asp\n",
    "    date = link.split(\"-\")\n",
    "    print(\"3.\" + str(date))\n",
    "\n",
    "    # extract just the date part of the string by slicing\n",
    "    print(\"4.\" + date[2])\n",
    "\n",
    "    # append the date to a list\n",
    "    dates_list.append(date[2])\n",
    "    \n",
    "    break"
   ]
  },
  {
   "cell_type": "code",
   "execution_count": null,
   "id": "48f7f959-fa1e-4eae-8488-d0b7cec9af34",
   "metadata": {},
   "outputs": [],
   "source": []
  }
 ],
 "metadata": {
  "kernelspec": {
   "display_name": "Python 3 (ipykernel)",
   "language": "python",
   "name": "python3"
  },
  "language_info": {
   "codemirror_mode": {
    "name": "ipython",
    "version": 3
   },
   "file_extension": ".py",
   "mimetype": "text/x-python",
   "name": "python",
   "nbconvert_exporter": "python",
   "pygments_lexer": "ipython3",
   "version": "3.12.0"
  }
 },
 "nbformat": 4,
 "nbformat_minor": 5
}
