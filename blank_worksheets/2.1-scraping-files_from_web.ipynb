{
 "cells": [
  {
   "cell_type": "markdown",
   "id": "e7943c9f-fe90-49b2-83ed-42247854ed89",
   "metadata": {},
   "source": [
    "# Scraping files from the web"
   ]
  },
  {
   "cell_type": "markdown",
   "id": "5ce2165d-9ee1-4959-ab5b-17933f392318",
   "metadata": {},
   "source": [
    "For this scraping excercise we'll use only 2 libraries : `pandas` and `requests`\n",
    "- `pandas` : for data analysis and transformation.\n",
    "- `requests` : opens a website\n",
    "Let's import them."
   ]
  },
  {
   "cell_type": "code",
   "execution_count": 17,
   "id": "f5368aba-2d6b-41ae-971b-7ffb1a2b777d",
   "metadata": {},
   "outputs": [],
   "source": [
    "import pandas as pd\n",
    "import requests"
   ]
  },
  {
   "cell_type": "markdown",
   "id": "3e6acc9f-a13d-4733-b641-a2165dee23c0",
   "metadata": {},
   "source": [
    "## Your best friend: the Inspector"
   ]
  },
  {
   "cell_type": "markdown",
   "id": "b47a32a2-ce5b-4bc8-be1c-69d789969df0",
   "metadata": {},
   "source": [
    "![img](img/inspector.png)"
   ]
  },
  {
   "cell_type": "markdown",
   "id": "2a54bf2b-47f9-456c-b280-62b0c8e32ab2",
   "metadata": {},
   "source": [
    "## Excercise 1: csv"
   ]
  },
  {
   "cell_type": "markdown",
   "id": "81e13377-47f3-489d-b93c-e4c2847f81ea",
   "metadata": {},
   "source": [
    "Go to https://integritywatch.eu/organizations.php and get the table out.\n",
    "- Open the Inspector\n",
    "- Go to the `Network` tab & reload the page"
   ]
  },
  {
   "cell_type": "markdown",
   "id": "d3caf682-0ac0-4867-a25e-332fbf4a5f2c",
   "metadata": {},
   "source": [
    "![img](img/inspector_network.png)"
   ]
  },
  {
   "cell_type": "markdown",
   "id": "2aeaa595-5ae5-46bd-95b0-f19b6c5ced78",
   "metadata": {},
   "source": [
    "- Use the pandas [`read_csv`](https://pandas.pydata.org/pandas-docs/stable/reference/api/pandas.read_csv.html) and [`.to_csv()`](https://pandas.pydata.org/pandas-docs/stable/reference/api/pandas.DataFrame.to_csv.html) function "
   ]
  },
  {
   "cell_type": "code",
   "execution_count": 29,
   "id": "a751477e-58f8-4263-9ff9-2d29e1fc62a4",
   "metadata": {},
   "outputs": [],
   "source": [
    "csv_url = \"\""
   ]
  },
  {
   "cell_type": "markdown",
   "id": "d3f624a2-d34b-41da-9149-6619e4f28169",
   "metadata": {},
   "source": [
    "## Excercise 2: json"
   ]
  },
  {
   "cell_type": "markdown",
   "id": "12c7e841-20f2-412d-9e28-9514c96a979b",
   "metadata": {},
   "source": [
    "Go to https://integritywatch.eu/ecmeetings.php and get the table out.\n",
    "- Find the underlying file with the Inspectors `Network` tab. (*hint: it's a `.json` file*)\n",
    "- Use the pandas [`read_json`](https://pandas.pydata.org/pandas-docs/stable/reference/api/pandas.read_json.html) and [`.to_csv()`](https://pandas.pydata.org/pandas-docs/stable/reference/api/pandas.DataFrame.to_csv.html) function."
   ]
  },
  {
   "cell_type": "code",
   "execution_count": 28,
   "id": "e99e4cb6-bf90-4f55-81f6-3014371a59a3",
   "metadata": {},
   "outputs": [],
   "source": [
    "json_url = \"\""
   ]
  },
  {
   "cell_type": "markdown",
   "id": "8317a981-c2b5-4777-883b-f85dce7cb2bb",
   "metadata": {},
   "source": [
    "## HTML/CSS"
   ]
  },
  {
   "cell_type": "markdown",
   "id": "5d3c334d-8fc1-43bb-91e7-8cc696b323bf",
   "metadata": {},
   "source": [
    "Another important part of the Inspector is the `Inspector` tab\n",
    "\n",
    "![img](img/inspector_inspector.png)\n",
    "\n",
    "Here we find `HTML/CSS` source of the website\n",
    "\n",
    "### HTML\n",
    "![html](img/anatomy-of-an-html-element.jpg)\n",
    "\n",
    "### CSS\n",
    "![html](img/html-element.png)\n",
    "\n",
    "We use these elements to navigate to the part of the webstie we want to scrape"
   ]
  },
  {
   "cell_type": "markdown",
   "id": "6afb9bf1-f06a-4f8b-8535-603c683b4b76",
   "metadata": {},
   "source": [
    "## Excercise 3: PDF"
   ]
  },
  {
   "cell_type": "markdown",
   "id": "6dd658c3-7780-497c-b5cc-0f95d7d58f99",
   "metadata": {},
   "source": [
    "Go to the [Commission expert groups website](https://ec.europa.eu/transparency/expert-groups-register/screen/expert-groups?lang=en)\n",
    "\n",
    "* Open an expert group meeting\n",
    "* Find the URL of the meeting minutes and any other documents you can find\n",
    "* Use `requests` and to save them on your computer"
   ]
  },
  {
   "cell_type": "code",
   "execution_count": 30,
   "id": "e87e92d6-c542-49c7-864c-139b1046064e",
   "metadata": {},
   "outputs": [],
   "source": [
    "pdf_url = \"\""
   ]
  }
 ],
 "metadata": {
  "kernelspec": {
   "display_name": "Python 3 (ipykernel)",
   "language": "python",
   "name": "python3"
  },
  "language_info": {
   "codemirror_mode": {
    "name": "ipython",
    "version": 3
   },
   "file_extension": ".py",
   "mimetype": "text/x-python",
   "name": "python",
   "nbconvert_exporter": "python",
   "pygments_lexer": "ipython3",
   "version": "3.12.0"
  }
 },
 "nbformat": 4,
 "nbformat_minor": 5
}
