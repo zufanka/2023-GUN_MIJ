{
 "cells": [
  {
   "cell_type": "markdown",
   "metadata": {},
   "source": [
    "# Welcome to the Python & Jupyter notebook Basics"
   ]
  },
  {
   "cell_type": "markdown",
   "metadata": {},
   "source": [
    "[presentation](https://docs.google.com/presentation/d/1N50SCfRmh5jftlkIommI1ernCZiQmQSVs0qcNkwjBYM/edit#slide=id.p)"
   ]
  },
  {
   "cell_type": "markdown",
   "metadata": {},
   "source": [
    "In this part, we will make ourselves familiar with the **jupyter notebook** and **Python** programming language"
   ]
  },
  {
   "cell_type": "code",
   "execution_count": null,
   "metadata": {},
   "outputs": [],
   "source": [
    "\"Hi! Welcome to the Spectacular Week of Python.\""
   ]
  },
  {
   "cell_type": "markdown",
   "metadata": {},
   "source": [
    "<br>➡  This is a jupyter notebook cell\n",
    "<br>➡  each cell needs to be **run** after you write your code: by clicking the `▶` button above, or with `shift/ctrl+ enter`\n",
    "<br>➡  If you see a number between the brackets next to the cell, eg `[23]`, the cell **has been run**\n",
    "<br>➡  If you see empty brackets `[ ]` the cell has **not been run**\n",
    "<br>➡  If you see this `[*]`, the cell is **running**. You can then not run any other cells while one is running\n",
    "<br>➡  **Important**: if you adjust a cell, you need to **run it again**!"
   ]
  },
  {
   "cell_type": "markdown",
   "metadata": {},
   "source": [
    "#### Add new cels:\n",
    "<br>➡ with the `+` sign in the top menu\n",
    "<br>➡ by pressing ESC and then `a` (above) or `b` (below)\n"
   ]
  },
  {
   "cell_type": "code",
   "execution_count": null,
   "metadata": {},
   "outputs": [],
   "source": [
    "# this is a comment"
   ]
  },
  {
   "cell_type": "markdown",
   "metadata": {},
   "source": [
    "<br>➡ put a **comment** in your code using the hashtag `#`\n",
    "<br>➡  Everything after the hashtag won't be read by Python: `# This is a comment`"
   ]
  },
  {
   "cell_type": "markdown",
   "metadata": {},
   "source": [
    "# THE BASICS"
   ]
  },
  {
   "cell_type": "markdown",
   "metadata": {},
   "source": [
    "## **Variables**"
   ]
  },
  {
   "cell_type": "markdown",
   "metadata": {},
   "source": [
    "![slicing](img/variables.png)"
   ]
  },
  {
   "cell_type": "markdown",
   "metadata": {},
   "source": [
    "<br>➡  `variables` = kind of box with a label on them in which you can stor  numbers, names, expressions, and even other variables\n",
    "<br>➡  name of a variable is arbitrary, but it is useful if you know what it stands for.\n",
    "<br>➡  create a variable with `variable_name =`\n",
    "<br>➡  a variable name can only contain **lower and uppercase letters, numbers, and underscores. No spaces** or other funky characters!"
   ]
  },
  {
   "cell_type": "markdown",
   "metadata": {},
   "source": [
    "### **Strings**"
   ]
  },
  {
   "cell_type": "markdown",
   "metadata": {},
   "source": [
    "<br>➡ `string` = text\n",
    "<br>➡ put it in between single or double quotes. `\"text\"` or `'text'`"
   ]
  },
  {
   "cell_type": "code",
   "execution_count": null,
   "metadata": {},
   "outputs": [],
   "source": []
  },
  {
   "cell_type": "markdown",
   "metadata": {},
   "source": [
    "What happens if you don't put the text between quotes?"
   ]
  },
  {
   "cell_type": "markdown",
   "metadata": {},
   "source": [
    "<br>➡  you can use the `print()` method to view the content of a variable: `print(variable_name)`\n",
    "<br>➡  or in jupyter notebook just the variable name"
   ]
  },
  {
   "cell_type": "code",
   "execution_count": null,
   "metadata": {},
   "outputs": [],
   "source": []
  },
  {
   "cell_type": "markdown",
   "metadata": {},
   "source": [
    "Print your string. Use `print()`"
   ]
  },
  {
   "cell_type": "code",
   "execution_count": null,
   "metadata": {},
   "outputs": [],
   "source": []
  },
  {
   "cell_type": "markdown",
   "metadata": {},
   "source": [
    "<br>➡ You can also do **addition** and **multiplication** with strings"
   ]
  },
  {
   "cell_type": "code",
   "execution_count": null,
   "metadata": {},
   "outputs": [],
   "source": []
  },
  {
   "cell_type": "code",
   "execution_count": null,
   "metadata": {},
   "outputs": [],
   "source": []
  },
  {
   "cell_type": "markdown",
   "metadata": {},
   "source": [
    "<br>➡ there are obviously also things you can not do"
   ]
  },
  {
   "cell_type": "code",
   "execution_count": null,
   "metadata": {},
   "outputs": [],
   "source": []
  },
  {
   "cell_type": "markdown",
   "metadata": {},
   "source": [
    "### **Numbers**"
   ]
  },
  {
   "cell_type": "markdown",
   "metadata": {},
   "source": [
    "<br>➡ `Integer` : whole number, such as `5`, `6` or `2454`"
   ]
  },
  {
   "cell_type": "code",
   "execution_count": null,
   "metadata": {},
   "outputs": [],
   "source": []
  },
  {
   "cell_type": "markdown",
   "metadata": {},
   "source": [
    "<br>➡ `Float` : a number that is not whole, such as `5.67` or `823.12`"
   ]
  },
  {
   "cell_type": "code",
   "execution_count": null,
   "metadata": {},
   "outputs": [],
   "source": []
  },
  {
   "cell_type": "markdown",
   "metadata": {},
   "source": [
    "<br>➡ You can do `addition`, `substraction`, `multiplication`, `division` (and more) with numbers."
   ]
  },
  {
   "cell_type": "code",
   "execution_count": null,
   "metadata": {},
   "outputs": [],
   "source": []
  },
  {
   "cell_type": "markdown",
   "metadata": {},
   "source": [
    "### Collection: **Lists**"
   ]
  },
  {
   "cell_type": "markdown",
   "metadata": {},
   "source": [
    "<br>➡ A `list` is a **collection** of other variables **separated by a comma**\n",
    "<br>➡  Uses **brackets** `[]`\n",
    "<br>➡ `empty_list = []`\n",
    "<br>➡ `fibonacci = [1, 1, 3, 5, 8, 13, 21, 34]`\n",
    "<br>➡ `oxford_word_oftheyear = [\"VAX\", \"CLIMATE EMERGENCY\", \"TOXIC\", \"YOUTHQUAKE\", \"POST-TRUTH\" ,\"😂\", \"vape\", \"selfie\"]`\n",
    "<br><br>Let's make a list!"
   ]
  },
  {
   "cell_type": "code",
   "execution_count": null,
   "metadata": {},
   "outputs": [],
   "source": []
  },
  {
   "cell_type": "markdown",
   "metadata": {},
   "source": [
    "Let's make a list of numbers"
   ]
  },
  {
   "cell_type": "code",
   "execution_count": null,
   "metadata": {},
   "outputs": [],
   "source": []
  },
  {
   "cell_type": "markdown",
   "metadata": {},
   "source": [
    "### Collection: **Dictionaries**"
   ]
  },
  {
   "cell_type": "markdown",
   "metadata": {},
   "source": [
    "<br>➡ A `dictionary` is a **collection** of **key** and **values**\n",
    "<br>➡ Uses **curly brackets** `{}`\n",
    "<br>➡ `empty_dictionary = {}`\n",
    "<br> Let's make a dictionary for our oxford words of the year and assign the actual year as a value"
   ]
  },
  {
   "cell_type": "code",
   "execution_count": 2,
   "metadata": {},
   "outputs": [
    {
     "data": {
      "text/plain": [
       "{'VAX': 2021,\n",
       " 'CLIMATE EMERGENCY': 2019,\n",
       " 'TOXIC': 2018,\n",
       " 'YOUTHQUAKE': 2017,\n",
       " 'POST-TRUTH': 2016,\n",
       " '😂': 2015,\n",
       " 'vape': 2014,\n",
       " 'selfie': 2013}"
      ]
     },
     "execution_count": 2,
     "metadata": {},
     "output_type": "execute_result"
    }
   ],
   "source": [
    "oxford_word_oftheyear_dict = {\"VAX\" : 2021, \"CLIMATE EMERGENCY\" : 2019, \"TOXIC\" : 2018, \"YOUTHQUAKE\": 2017, \"POST-TRUTH\" :2016,\"😂\" : 2015, \"vape\" : 2014, \"selfie\": 2013}\n",
    "oxford_word_oftheyear_dict"
   ]
  },
  {
   "cell_type": "markdown",
   "metadata": {},
   "source": [
    "<br> You can also create a new key / value pair like this:\n",
    "<br>➡ `dictionary[key] = value`"
   ]
  },
  {
   "cell_type": "code",
   "execution_count": null,
   "metadata": {},
   "outputs": [],
   "source": [
    "# what happens if you assign for example the \"VAX\" key with something else?\n"
   ]
  },
  {
   "cell_type": "code",
   "execution_count": 3,
   "metadata": {},
   "outputs": [],
   "source": [
    "# make a new dictionary for yourself\n"
   ]
  },
  {
   "cell_type": "markdown",
   "metadata": {},
   "source": [
    "## **Debugging**"
   ]
  },
  {
   "cell_type": "markdown",
   "metadata": {},
   "source": [
    "By now you are probably getting some errors. Let's see how to tackle them"
   ]
  },
  {
   "cell_type": "markdown",
   "metadata": {},
   "source": [
    "![slicing](img/bugs.png)"
   ]
  },
  {
   "cell_type": "markdown",
   "metadata": {},
   "source": [
    "Most common errors:\n",
    "<br>➡ `NameError` : the variable name is not right. Check for **typos**\n",
    "<br>➡ `SyntaxError` : the syntax is not right, you can be **missing** brackets, quotes, or using the wrong ones\n",
    "<br>➡ `AttributeError` : the method you are using is not correct\n",
    "<br>..."
   ]
  },
  {
   "cell_type": "markdown",
   "metadata": {},
   "source": [
    "![slicing](img/debug.png)"
   ]
  },
  {
   "cell_type": "markdown",
   "metadata": {},
   "source": [
    "## **Methods**"
   ]
  },
  {
   "cell_type": "markdown",
   "metadata": {},
   "source": [
    "![methods](img/methods.png)"
   ]
  },
  {
   "cell_type": "markdown",
   "metadata": {},
   "source": [
    "**NOTE**\n",
    "<br>➡ if a method **has a** `.` at the beginning, you put it **after** the variable, eg `variable.strip()`\n",
    "<br>➡ if a method **has no** `.` at the beginning, you put the variable **in between** the brackets, eg `len(variable)`"
   ]
  },
  {
   "cell_type": "markdown",
   "metadata": {},
   "source": [
    "### **String methods**"
   ]
  },
  {
   "cell_type": "markdown",
   "metadata": {},
   "source": [
    "<br>➡`len()` will count the characters in a string: `len(string)`"
   ]
  },
  {
   "cell_type": "code",
   "execution_count": null,
   "metadata": {},
   "outputs": [],
   "source": []
  },
  {
   "cell_type": "markdown",
   "metadata": {},
   "source": [
    "<br>➡ `.strip()` : remove whitespaces before or after a string "
   ]
  },
  {
   "cell_type": "code",
   "execution_count": null,
   "metadata": {},
   "outputs": [],
   "source": []
  },
  {
   "cell_type": "markdown",
   "metadata": {},
   "source": [
    "<br>➡ `.replace()` : replace something with something else "
   ]
  },
  {
   "cell_type": "code",
   "execution_count": null,
   "metadata": {},
   "outputs": [],
   "source": []
  },
  {
   "cell_type": "markdown",
   "metadata": {},
   "source": [
    "<br>➡ `.lower()` : makes the whole string lowercase "
   ]
  },
  {
   "cell_type": "code",
   "execution_count": null,
   "metadata": {},
   "outputs": [],
   "source": []
  },
  {
   "cell_type": "markdown",
   "metadata": {},
   "source": [
    "<br>➡ `.upper()` : makes the whole string uppercase"
   ]
  },
  {
   "cell_type": "code",
   "execution_count": null,
   "metadata": {},
   "outputs": [],
   "source": []
  },
  {
   "cell_type": "markdown",
   "metadata": {},
   "source": [
    "### **Number methods**"
   ]
  },
  {
   "cell_type": "markdown",
   "metadata": {},
   "source": [
    "<br>➡ `str()` : makes a string out of a number"
   ]
  },
  {
   "cell_type": "code",
   "execution_count": null,
   "metadata": {},
   "outputs": [],
   "source": []
  },
  {
   "cell_type": "markdown",
   "metadata": {},
   "source": [
    "Useful while scraping"
   ]
  },
  {
   "cell_type": "code",
   "execution_count": null,
   "metadata": {},
   "outputs": [],
   "source": [
    "\"www.website.org/something?page=\" + str(10)"
   ]
  },
  {
   "cell_type": "markdown",
   "metadata": {},
   "source": [
    "### **List methods**"
   ]
  },
  {
   "cell_type": "markdown",
   "metadata": {},
   "source": [
    "<br>➡ Lists also have a lenght"
   ]
  },
  {
   "cell_type": "code",
   "execution_count": null,
   "metadata": {},
   "outputs": [],
   "source": []
  },
  {
   "cell_type": "markdown",
   "metadata": {},
   "source": [
    "<br>➡ `.append()` : add new elements to the list. Often used in `for` loops"
   ]
  },
  {
   "cell_type": "code",
   "execution_count": null,
   "metadata": {},
   "outputs": [],
   "source": []
  },
  {
   "cell_type": "markdown",
   "metadata": {},
   "source": [
    "<br>➡ `.join()` : joins a list to create a `string`"
   ]
  },
  {
   "cell_type": "code",
   "execution_count": null,
   "metadata": {},
   "outputs": [],
   "source": []
  },
  {
   "cell_type": "markdown",
   "metadata": {},
   "source": [
    "<br>➡ `.split()` : splits a string to creates a `list`"
   ]
  },
  {
   "cell_type": "code",
   "execution_count": null,
   "metadata": {},
   "outputs": [],
   "source": []
  },
  {
   "cell_type": "markdown",
   "metadata": {},
   "source": [
    "# **Slicing**"
   ]
  },
  {
   "cell_type": "markdown",
   "metadata": {},
   "source": [
    "![slicing](img/bread.png)"
   ]
  },
  {
   "cell_type": "markdown",
   "metadata": {},
   "source": [
    "<br>➡ use a `[]` with a number after a list or string, e.g. `list[4]`\n",
    "<br>➡ *Important* : in Python, we **start counting at 0**"
   ]
  },
  {
   "cell_type": "markdown",
   "metadata": {},
   "source": [
    "![hello](img/hello.png)"
   ]
  },
  {
   "cell_type": "markdown",
   "metadata": {},
   "source": [
    "![hello-string](img/slice.png)"
   ]
  },
  {
   "cell_type": "markdown",
   "metadata": {},
   "source": [
    "What is happening here?"
   ]
  },
  {
   "cell_type": "code",
   "execution_count": null,
   "metadata": {},
   "outputs": [],
   "source": [
    "print(oxford_word_oftheyear)\n",
    "oxford_word_oftheyear[2]"
   ]
  },
  {
   "cell_type": "code",
   "execution_count": null,
   "metadata": {},
   "outputs": [],
   "source": [
    "print(oxford_word_oftheyear)\n",
    "oxford_word_oftheyear[3:5]"
   ]
  },
  {
   "cell_type": "code",
   "execution_count": null,
   "metadata": {},
   "outputs": [],
   "source": []
  },
  {
   "cell_type": "code",
   "execution_count": null,
   "metadata": {},
   "outputs": [],
   "source": []
  },
  {
   "cell_type": "markdown",
   "metadata": {},
   "source": [
    "# **Loops**"
   ]
  },
  {
   "cell_type": "markdown",
   "metadata": {},
   "source": [
    "![slicing](img/loops.png)"
   ]
  },
  {
   "cell_type": "markdown",
   "metadata": {},
   "source": [
    "<br>➡  a set of instructions that are **continually repeated**\n",
    "\n",
    "```python\n",
    "for item in [something, something_else]:\n",
    "    print(item)\n",
    "```\n",
    "\n",
    "<br>➡ `item` is a placeholder name for the 'something' in between the brackets\n",
    "<br>➡ `print()` is a method that just displays the value \n",
    "<br>➡ in scraping used to for example open multiple URLs and extract data from them\n"
   ]
  },
  {
   "cell_type": "code",
   "execution_count": null,
   "metadata": {},
   "outputs": [],
   "source": [
    "# 1. Let's make a list of some EU databases: Cohesio, Cordis, Financial Transparency System, TED\n",
    "# 2. For each of these print \"[database name] is an EU database\"\n",
    "\n"
   ]
  },
  {
   "cell_type": "markdown",
   "metadata": {},
   "source": [
    "We can use `range(start, end)` to create a range of numbers\n",
    "\n",
    "```python\n",
    "for n in range(0,3):\n",
    "    print(n)\n",
    "```"
   ]
  },
  {
   "cell_type": "code",
   "execution_count": 7,
   "metadata": {},
   "outputs": [],
   "source": [
    "# paste the code here and see what it does\n"
   ]
  },
  {
   "cell_type": "markdown",
   "metadata": {},
   "source": [
    "Instead of printing, you can create `lists` using `for` loops. For example:\n",
    "```python\n",
    "empty_list = []\n",
    "\n",
    "for n in range(0,20):\n",
    "    empty_list.append(n)\n",
    "```"
   ]
  },
  {
   "cell_type": "code",
   "execution_count": null,
   "metadata": {},
   "outputs": [],
   "source": [
    "# paste the code here and see what it does\n"
   ]
  },
  {
   "cell_type": "markdown",
   "metadata": {},
   "source": [
    "Let's go deeper - nested loops\n",
    "\n"
   ]
  },
  {
   "cell_type": "markdown",
   "metadata": {},
   "source": [
    "```python\n",
    "list1 = [5,10,15,20]\n",
    "list2 = [2,3,4,5]\n",
    "\n",
    "for x in list1:\n",
    "    for y in list2:\n",
    "        print(x+y)\n",
    "        \n",
    "```"
   ]
  },
  {
   "cell_type": "code",
   "execution_count": 50,
   "metadata": {},
   "outputs": [],
   "source": [
    "# paste the code here and see what it does\n"
   ]
  },
  {
   "cell_type": "markdown",
   "metadata": {},
   "source": [
    "# **Conditions**"
   ]
  },
  {
   "cell_type": "markdown",
   "metadata": {},
   "source": [
    "Sometimes you want to skip something, or only do things if a certain condition is met. In Python, you can do comparisons as you would in math. The syntax can be a bit different though, because `=` is already used to assign variables for example. Use `<` , `>` , `==` , `!=` to compare numbers or text and see what happens."
   ]
  },
  {
   "cell_type": "code",
   "execution_count": null,
   "metadata": {},
   "outputs": [],
   "source": []
  },
  {
   "cell_type": "code",
   "execution_count": null,
   "metadata": {},
   "outputs": [],
   "source": []
  },
  {
   "cell_type": "markdown",
   "metadata": {},
   "source": [
    "### Question:\n",
    "* Create two variables, assign one as a number and one as a string and compare them. What can you do and what can't you do?"
   ]
  },
  {
   "cell_type": "code",
   "execution_count": null,
   "metadata": {},
   "outputs": [],
   "source": []
  },
  {
   "cell_type": "markdown",
   "metadata": {},
   "source": [
    "## IF / ELIF / ELSE"
   ]
  },
  {
   "cell_type": "markdown",
   "metadata": {},
   "source": [
    "Based on comparisons, we can make `if elif else` statements. This is also called `flow control`"
   ]
  },
  {
   "cell_type": "markdown",
   "metadata": {},
   "source": [
    "```python\n",
    "from random import randint\n",
    "\n",
    "variable = randint(-10,10)\n",
    "\n",
    "if variable == 0:\n",
    "    print(f\"{variable} is zero\")\n",
    "elif variable < 0:\n",
    "    print(f\"{variable} is lower than zero\")\n",
    "else:\n",
    "    print(f\"{variable} is larger than zero\")\n",
    "```"
   ]
  },
  {
   "cell_type": "code",
   "execution_count": 37,
   "metadata": {},
   "outputs": [],
   "source": [
    "# paste the code here and see what it does\n"
   ]
  },
  {
   "cell_type": "markdown",
   "metadata": {},
   "source": [
    "Pay attention on how do we make the print statement here, we are using the so-called `f-string`\n",
    "\n",
    "```python\n",
    "f\"{variable name} ... \"\n",
    "```"
   ]
  },
  {
   "cell_type": "code",
   "execution_count": null,
   "metadata": {},
   "outputs": [],
   "source": []
  },
  {
   "cell_type": "markdown",
   "metadata": {},
   "source": [
    "Most often you would use conditional statements in loops."
   ]
  },
  {
   "cell_type": "markdown",
   "metadata": {},
   "source": [
    "```python\n",
    "numbers = [12, 75, 150, 180, 145, 525, 50]\n",
    "# iterate each item of a list\n",
    "for item in numbers:\n",
    "    if item > 500:\n",
    "        # stop the loop completely\n",
    "        break\n",
    "    elif item > 150:\n",
    "        # skip and to the next number\n",
    "        continue\n",
    "    # check if number is divisible by 5\n",
    "    elif item % 5 == 0:\n",
    "        print(item)\n",
    "        \n",
    "```        "
   ]
  },
  {
   "cell_type": "code",
   "execution_count": 45,
   "metadata": {},
   "outputs": [],
   "source": [
    "# paste the code here and run it. Let's dissect what it does.\n"
   ]
  }
 ],
 "metadata": {
  "kernelspec": {
   "display_name": "Python 3 (ipykernel)",
   "language": "python",
   "name": "python3"
  },
  "language_info": {
   "codemirror_mode": {
    "name": "ipython",
    "version": 3
   },
   "file_extension": ".py",
   "mimetype": "text/x-python",
   "name": "python",
   "nbconvert_exporter": "python",
   "pygments_lexer": "ipython3",
   "version": "3.11.6"
  }
 },
 "nbformat": 4,
 "nbformat_minor": 4
}
